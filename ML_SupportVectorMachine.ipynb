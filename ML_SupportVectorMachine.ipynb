{
 "cells": [
  {
   "cell_type": "code",
   "execution_count": 1,
   "id": "fdb39547",
   "metadata": {},
   "outputs": [],
   "source": [
    "import pandas as pd\n",
    "from sklearn.datasets import load_digits"
   ]
  },
  {
   "cell_type": "code",
   "execution_count": 2,
   "id": "9cd0776d",
   "metadata": {},
   "outputs": [],
   "source": [
    "digits = load_digits()"
   ]
  },
  {
   "cell_type": "code",
   "execution_count": 3,
   "id": "52288733",
   "metadata": {},
   "outputs": [
    {
     "data": {
      "text/plain": [
       "['DESCR', 'data', 'feature_names', 'frame', 'images', 'target', 'target_names']"
      ]
     },
     "execution_count": 3,
     "metadata": {},
     "output_type": "execute_result"
    }
   ],
   "source": [
    "dir(digits)"
   ]
  },
  {
   "cell_type": "code",
   "execution_count": 4,
   "id": "4053541d",
   "metadata": {},
   "outputs": [],
   "source": [
    "X = digits.data"
   ]
  },
  {
   "cell_type": "code",
   "execution_count": 5,
   "id": "b563338a",
   "metadata": {},
   "outputs": [],
   "source": [
    "y = digits.target"
   ]
  },
  {
   "cell_type": "code",
   "execution_count": 6,
   "id": "e330f59b",
   "metadata": {},
   "outputs": [],
   "source": [
    "from sklearn.svm import SVC"
   ]
  },
  {
   "cell_type": "code",
   "execution_count": 7,
   "id": "ce3d2b35",
   "metadata": {},
   "outputs": [],
   "source": [
    "model = SVC() ##default olarak regularization yani C =  1 olrak geliyor."
   ]
  },
  {
   "cell_type": "code",
   "execution_count": 8,
   "id": "cb63a7a4",
   "metadata": {},
   "outputs": [],
   "source": [
    "from sklearn.model_selection import train_test_split"
   ]
  },
  {
   "cell_type": "code",
   "execution_count": 9,
   "id": "1a0ec9e4",
   "metadata": {},
   "outputs": [],
   "source": [
    "X_train , X_test , y_train , y_test = train_test_split(X,y,test_size=0.2)"
   ]
  },
  {
   "cell_type": "code",
   "execution_count": 10,
   "id": "954cc2cf",
   "metadata": {},
   "outputs": [
    {
     "data": {
      "text/plain": [
       "SVC()"
      ]
     },
     "execution_count": 10,
     "metadata": {},
     "output_type": "execute_result"
    }
   ],
   "source": [
    "model.fit(X_train,y_train)"
   ]
  },
  {
   "cell_type": "code",
   "execution_count": 11,
   "id": "9ca37d69",
   "metadata": {},
   "outputs": [
    {
     "data": {
      "text/plain": [
       "0.9888888888888889"
      ]
     },
     "execution_count": 11,
     "metadata": {},
     "output_type": "execute_result"
    }
   ],
   "source": [
    "model.score(X_test,y_test)"
   ]
  },
  {
   "cell_type": "code",
   "execution_count": 12,
   "id": "d1061c2c",
   "metadata": {},
   "outputs": [],
   "source": [
    "model1 = SVC(C=3)"
   ]
  },
  {
   "cell_type": "code",
   "execution_count": 13,
   "id": "11ca3f8e",
   "metadata": {},
   "outputs": [
    {
     "data": {
      "text/plain": [
       "SVC(C=3)"
      ]
     },
     "execution_count": 13,
     "metadata": {},
     "output_type": "execute_result"
    }
   ],
   "source": [
    "model1.fit(X_train,y_train)"
   ]
  },
  {
   "cell_type": "code",
   "execution_count": 14,
   "id": "5f37eabb",
   "metadata": {},
   "outputs": [
    {
     "data": {
      "text/plain": [
       "0.9888888888888889"
      ]
     },
     "execution_count": 14,
     "metadata": {},
     "output_type": "execute_result"
    }
   ],
   "source": [
    "model1.score(X_test,y_test) ## regularization arttırdım ve türler arası boşluk azaldı ama artık çizdiğimiz ayrım daha az yanlış değerlendirme yapıyor."
   ]
  },
  {
   "cell_type": "markdown",
   "id": "9fbb6da3",
   "metadata": {},
   "source": [
    "Şimdi bu vektör makinesi için en iyi parametreleri bulmaya çalışalım."
   ]
  },
  {
   "cell_type": "code",
   "execution_count": 15,
   "id": "d40b1c48",
   "metadata": {},
   "outputs": [],
   "source": [
    "from sklearn.model_selection import GridSearchCV"
   ]
  },
  {
   "cell_type": "code",
   "execution_count": 16,
   "id": "3dc048a6",
   "metadata": {},
   "outputs": [],
   "source": [
    "parameters = {'kernel':('linear', 'rbf'), 'C':[1, 3]} ## gridsearchcv dictionary seti şeklinde denenecek parametreleri ve modeli alır."
   ]
  },
  {
   "cell_type": "code",
   "execution_count": 17,
   "id": "1b69a3aa",
   "metadata": {},
   "outputs": [],
   "source": [
    "new_model = GridSearchCV(model,parameters)"
   ]
  },
  {
   "cell_type": "code",
   "execution_count": 24,
   "id": "505864fb",
   "metadata": {},
   "outputs": [
    {
     "data": {
      "text/plain": [
       "GridSearchCV(estimator=SVC(),\n",
       "             param_grid={'C': [1, 3], 'kernel': ('linear', 'rbf')})"
      ]
     },
     "execution_count": 24,
     "metadata": {},
     "output_type": "execute_result"
    }
   ],
   "source": [
    "new_model.fit(X,y)"
   ]
  },
  {
   "cell_type": "code",
   "execution_count": 25,
   "id": "4ae08420",
   "metadata": {},
   "outputs": [
    {
     "data": {
      "text/plain": [
       "{'mean_fit_time': array([0.03333993, 0.06421604, 0.03364182, 0.05845203]),\n",
       " 'std_fit_time': array([0.00239272, 0.00211753, 0.00135665, 0.00124224]),\n",
       " 'mean_score_time': array([0.00851517, 0.03720651, 0.00781054, 0.03294449]),\n",
       " 'std_score_time': array([4.60176823e-04, 3.22605574e-04, 4.07195185e-04, 6.53592954e-05]),\n",
       " 'param_C': masked_array(data=[1, 1, 3, 3],\n",
       "              mask=[False, False, False, False],\n",
       "        fill_value='?',\n",
       "             dtype=object),\n",
       " 'param_kernel': masked_array(data=['linear', 'rbf', 'linear', 'rbf'],\n",
       "              mask=[False, False, False, False],\n",
       "        fill_value='?',\n",
       "             dtype=object),\n",
       " 'params': [{'C': 1, 'kernel': 'linear'},\n",
       "  {'C': 1, 'kernel': 'rbf'},\n",
       "  {'C': 3, 'kernel': 'linear'},\n",
       "  {'C': 3, 'kernel': 'rbf'}],\n",
       " 'split0_test_score': array([0.96388889, 0.96111111, 0.96388889, 0.98055556]),\n",
       " 'split1_test_score': array([0.91944444, 0.94444444, 0.91944444, 0.95      ]),\n",
       " 'split2_test_score': array([0.96657382, 0.98328691, 0.96657382, 0.98328691]),\n",
       " 'split3_test_score': array([0.9637883 , 0.98885794, 0.9637883 , 0.99164345]),\n",
       " 'split4_test_score': array([0.92479109, 0.93871866, 0.92479109, 0.95821727]),\n",
       " 'mean_test_score': array([0.94769731, 0.96328381, 0.94769731, 0.97274064]),\n",
       " 'std_test_score': array([0.02097775, 0.02008606, 0.02097775, 0.01585987]),\n",
       " 'rank_test_score': array([3, 2, 3, 1])}"
      ]
     },
     "execution_count": 25,
     "metadata": {},
     "output_type": "execute_result"
    }
   ],
   "source": [
    "new_model.cv_results_"
   ]
  },
  {
   "cell_type": "markdown",
   "id": "141b99d9",
   "metadata": {},
   "source": [
    "Burada karşılaştırdığımızda en iyi sonucu C=3 iken ve kernel=rbf olduğunda alıyoruz o model ile devam edebiliriz."
   ]
  },
  {
   "cell_type": "code",
   "execution_count": 26,
   "id": "63c37195",
   "metadata": {},
   "outputs": [],
   "source": [
    "model_son = SVC(C=3,kernel=\"rbf\")"
   ]
  },
  {
   "cell_type": "code",
   "execution_count": 27,
   "id": "fa27517c",
   "metadata": {},
   "outputs": [
    {
     "data": {
      "text/plain": [
       "SVC(C=3)"
      ]
     },
     "execution_count": 27,
     "metadata": {},
     "output_type": "execute_result"
    }
   ],
   "source": [
    "model_son.fit(X_train,y_train)"
   ]
  },
  {
   "cell_type": "code",
   "execution_count": 28,
   "id": "a0d64478",
   "metadata": {
    "scrolled": true
   },
   "outputs": [
    {
     "data": {
      "text/plain": [
       "0.9888888888888889"
      ]
     },
     "execution_count": 28,
     "metadata": {},
     "output_type": "execute_result"
    }
   ],
   "source": [
    "model_son.score(X_test,y_test)"
   ]
  },
  {
   "cell_type": "code",
   "execution_count": null,
   "id": "23b71c49",
   "metadata": {},
   "outputs": [],
   "source": []
  }
 ],
 "metadata": {
  "kernelspec": {
   "display_name": "Python 3 (ipykernel)",
   "language": "python",
   "name": "python3"
  },
  "language_info": {
   "codemirror_mode": {
    "name": "ipython",
    "version": 3
   },
   "file_extension": ".py",
   "mimetype": "text/x-python",
   "name": "python",
   "nbconvert_exporter": "python",
   "pygments_lexer": "ipython3",
   "version": "3.9.7"
  }
 },
 "nbformat": 4,
 "nbformat_minor": 5
}
