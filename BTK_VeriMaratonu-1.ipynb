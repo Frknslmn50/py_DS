{
 "cells": [
  {
   "cell_type": "code",
   "execution_count": 1,
   "id": "10146f55",
   "metadata": {},
   "outputs": [],
   "source": [
    "import pandas as pd\n",
    "import matplotlib.pyplot as plt\n",
    "import numpy as np\n",
    "from collections import Counter\n",
    "#Uyarıları kapatmak için:\n",
    "import warnings\n",
    "warnings.filterwarnings(\"ignore\")"
   ]
  },
  {
   "cell_type": "code",
   "execution_count": 2,
   "id": "0166315f",
   "metadata": {},
   "outputs": [],
   "source": [
    "data = pd.read_csv(\"veriseti_20220203_olimpiyatlar.csv\")"
   ]
  },
  {
   "cell_type": "code",
   "execution_count": 3,
   "id": "51066651",
   "metadata": {},
   "outputs": [
    {
     "data": {
      "text/html": [
       "<div>\n",
       "<style scoped>\n",
       "    .dataframe tbody tr th:only-of-type {\n",
       "        vertical-align: middle;\n",
       "    }\n",
       "\n",
       "    .dataframe tbody tr th {\n",
       "        vertical-align: top;\n",
       "    }\n",
       "\n",
       "    .dataframe thead th {\n",
       "        text-align: right;\n",
       "    }\n",
       "</style>\n",
       "<table border=\"1\" class=\"dataframe\">\n",
       "  <thead>\n",
       "    <tr style=\"text-align: right;\">\n",
       "      <th></th>\n",
       "      <th>ID</th>\n",
       "      <th>Name</th>\n",
       "      <th>Gender</th>\n",
       "      <th>Age</th>\n",
       "      <th>Height</th>\n",
       "      <th>Weight</th>\n",
       "      <th>Team</th>\n",
       "      <th>NOC</th>\n",
       "      <th>Games</th>\n",
       "      <th>Year</th>\n",
       "      <th>Season</th>\n",
       "      <th>City</th>\n",
       "      <th>Sport</th>\n",
       "      <th>Event</th>\n",
       "      <th>Medal</th>\n",
       "    </tr>\n",
       "  </thead>\n",
       "  <tbody>\n",
       "    <tr>\n",
       "      <th>0</th>\n",
       "      <td>1</td>\n",
       "      <td>A Dijiang</td>\n",
       "      <td>M</td>\n",
       "      <td>24.0</td>\n",
       "      <td>180.0</td>\n",
       "      <td>80.0</td>\n",
       "      <td>China</td>\n",
       "      <td>CHN</td>\n",
       "      <td>1992 Summer</td>\n",
       "      <td>1992</td>\n",
       "      <td>Summer</td>\n",
       "      <td>Barcelona</td>\n",
       "      <td>Basketball</td>\n",
       "      <td>Basketball Men's Basketball</td>\n",
       "      <td>NaN</td>\n",
       "    </tr>\n",
       "    <tr>\n",
       "      <th>1</th>\n",
       "      <td>2</td>\n",
       "      <td>A Lamusi</td>\n",
       "      <td>M</td>\n",
       "      <td>23.0</td>\n",
       "      <td>170.0</td>\n",
       "      <td>60.0</td>\n",
       "      <td>China</td>\n",
       "      <td>CHN</td>\n",
       "      <td>2012 Summer</td>\n",
       "      <td>2012</td>\n",
       "      <td>Summer</td>\n",
       "      <td>London</td>\n",
       "      <td>Judo</td>\n",
       "      <td>Judo Men's Extra-Lightweight</td>\n",
       "      <td>NaN</td>\n",
       "    </tr>\n",
       "    <tr>\n",
       "      <th>2</th>\n",
       "      <td>3</td>\n",
       "      <td>Gunnar Nielsen Aaby</td>\n",
       "      <td>M</td>\n",
       "      <td>24.0</td>\n",
       "      <td>NaN</td>\n",
       "      <td>NaN</td>\n",
       "      <td>Denmark</td>\n",
       "      <td>DEN</td>\n",
       "      <td>1920 Summer</td>\n",
       "      <td>1920</td>\n",
       "      <td>Summer</td>\n",
       "      <td>Antwerpen</td>\n",
       "      <td>Football</td>\n",
       "      <td>Football Men's Football</td>\n",
       "      <td>NaN</td>\n",
       "    </tr>\n",
       "    <tr>\n",
       "      <th>3</th>\n",
       "      <td>4</td>\n",
       "      <td>Edgar Lindenau Aabye</td>\n",
       "      <td>M</td>\n",
       "      <td>34.0</td>\n",
       "      <td>NaN</td>\n",
       "      <td>NaN</td>\n",
       "      <td>Denmark/Sweden</td>\n",
       "      <td>DEN</td>\n",
       "      <td>1900 Summer</td>\n",
       "      <td>1900</td>\n",
       "      <td>Summer</td>\n",
       "      <td>Paris</td>\n",
       "      <td>Tug-Of-War</td>\n",
       "      <td>Tug-Of-War Men's Tug-Of-War</td>\n",
       "      <td>Gold</td>\n",
       "    </tr>\n",
       "    <tr>\n",
       "      <th>4</th>\n",
       "      <td>5</td>\n",
       "      <td>Christine Jacoba Aaftink</td>\n",
       "      <td>F</td>\n",
       "      <td>21.0</td>\n",
       "      <td>185.0</td>\n",
       "      <td>82.0</td>\n",
       "      <td>Netherlands</td>\n",
       "      <td>NED</td>\n",
       "      <td>1988 Winter</td>\n",
       "      <td>1988</td>\n",
       "      <td>Winter</td>\n",
       "      <td>Calgary</td>\n",
       "      <td>Speed Skating</td>\n",
       "      <td>Speed Skating Women's 500 metres</td>\n",
       "      <td>NaN</td>\n",
       "    </tr>\n",
       "  </tbody>\n",
       "</table>\n",
       "</div>"
      ],
      "text/plain": [
       "   ID                      Name Gender   Age  Height  Weight            Team  \\\n",
       "0   1                 A Dijiang      M  24.0   180.0    80.0           China   \n",
       "1   2                  A Lamusi      M  23.0   170.0    60.0           China   \n",
       "2   3       Gunnar Nielsen Aaby      M  24.0     NaN     NaN         Denmark   \n",
       "3   4      Edgar Lindenau Aabye      M  34.0     NaN     NaN  Denmark/Sweden   \n",
       "4   5  Christine Jacoba Aaftink      F  21.0   185.0    82.0     Netherlands   \n",
       "\n",
       "   NOC        Games  Year  Season       City          Sport  \\\n",
       "0  CHN  1992 Summer  1992  Summer  Barcelona     Basketball   \n",
       "1  CHN  2012 Summer  2012  Summer     London           Judo   \n",
       "2  DEN  1920 Summer  1920  Summer  Antwerpen       Football   \n",
       "3  DEN  1900 Summer  1900  Summer      Paris     Tug-Of-War   \n",
       "4  NED  1988 Winter  1988  Winter    Calgary  Speed Skating   \n",
       "\n",
       "                              Event Medal  \n",
       "0       Basketball Men's Basketball   NaN  \n",
       "1      Judo Men's Extra-Lightweight   NaN  \n",
       "2           Football Men's Football   NaN  \n",
       "3       Tug-Of-War Men's Tug-Of-War  Gold  \n",
       "4  Speed Skating Women's 500 metres   NaN  "
      ]
     },
     "execution_count": 3,
     "metadata": {},
     "output_type": "execute_result"
    }
   ],
   "source": [
    "data.head()"
   ]
  },
  {
   "cell_type": "code",
   "execution_count": 4,
   "id": "ecc5087a",
   "metadata": {},
   "outputs": [
    {
     "name": "stdout",
     "output_type": "stream",
     "text": [
      "<class 'pandas.core.frame.DataFrame'>\n",
      "RangeIndex: 271116 entries, 0 to 271115\n",
      "Data columns (total 15 columns):\n",
      " #   Column  Non-Null Count   Dtype  \n",
      "---  ------  --------------   -----  \n",
      " 0   ID      271116 non-null  int64  \n",
      " 1   Name    271116 non-null  object \n",
      " 2   Gender  271116 non-null  object \n",
      " 3   Age     261642 non-null  float64\n",
      " 4   Height  210945 non-null  float64\n",
      " 5   Weight  208241 non-null  float64\n",
      " 6   Team    271116 non-null  object \n",
      " 7   NOC     271116 non-null  object \n",
      " 8   Games   271116 non-null  object \n",
      " 9   Year    271116 non-null  int64  \n",
      " 10  Season  271116 non-null  object \n",
      " 11  City    271116 non-null  object \n",
      " 12  Sport   271116 non-null  object \n",
      " 13  Event   271116 non-null  object \n",
      " 14  Medal   39783 non-null   object \n",
      "dtypes: float64(3), int64(2), object(10)\n",
      "memory usage: 31.0+ MB\n"
     ]
    }
   ],
   "source": [
    "data.info()"
   ]
  },
  {
   "cell_type": "code",
   "execution_count": 5,
   "id": "23053810",
   "metadata": {},
   "outputs": [
    {
     "data": {
      "text/plain": [
       "Index(['ID', 'Name', 'Gender', 'Age', 'Height', 'Weight', 'Team', 'NOC',\n",
       "       'Games', 'Year', 'Season', 'City', 'Sport', 'Event', 'Medal'],\n",
       "      dtype='object')"
      ]
     },
     "execution_count": 5,
     "metadata": {},
     "output_type": "execute_result"
    }
   ],
   "source": [
    "data.columns"
   ]
  },
  {
   "cell_type": "code",
   "execution_count": 6,
   "id": "07c197ee",
   "metadata": {},
   "outputs": [],
   "source": [
    "data = data.drop(columns=[\"ID\",\"Games\"])"
   ]
  },
  {
   "cell_type": "code",
   "execution_count": 7,
   "id": "66627842",
   "metadata": {},
   "outputs": [
    {
     "data": {
      "text/html": [
       "<div>\n",
       "<style scoped>\n",
       "    .dataframe tbody tr th:only-of-type {\n",
       "        vertical-align: middle;\n",
       "    }\n",
       "\n",
       "    .dataframe tbody tr th {\n",
       "        vertical-align: top;\n",
       "    }\n",
       "\n",
       "    .dataframe thead th {\n",
       "        text-align: right;\n",
       "    }\n",
       "</style>\n",
       "<table border=\"1\" class=\"dataframe\">\n",
       "  <thead>\n",
       "    <tr style=\"text-align: right;\">\n",
       "      <th></th>\n",
       "      <th>Name</th>\n",
       "      <th>Gender</th>\n",
       "      <th>Age</th>\n",
       "      <th>Height</th>\n",
       "      <th>Weight</th>\n",
       "      <th>Team</th>\n",
       "      <th>NOC</th>\n",
       "      <th>Year</th>\n",
       "      <th>Season</th>\n",
       "      <th>City</th>\n",
       "      <th>Sport</th>\n",
       "      <th>Event</th>\n",
       "      <th>Medal</th>\n",
       "    </tr>\n",
       "  </thead>\n",
       "  <tbody>\n",
       "    <tr>\n",
       "      <th>0</th>\n",
       "      <td>A Dijiang</td>\n",
       "      <td>M</td>\n",
       "      <td>24.0</td>\n",
       "      <td>180.0</td>\n",
       "      <td>80.0</td>\n",
       "      <td>China</td>\n",
       "      <td>CHN</td>\n",
       "      <td>1992</td>\n",
       "      <td>Summer</td>\n",
       "      <td>Barcelona</td>\n",
       "      <td>Basketball</td>\n",
       "      <td>Basketball Men's Basketball</td>\n",
       "      <td>NaN</td>\n",
       "    </tr>\n",
       "    <tr>\n",
       "      <th>1</th>\n",
       "      <td>A Lamusi</td>\n",
       "      <td>M</td>\n",
       "      <td>23.0</td>\n",
       "      <td>170.0</td>\n",
       "      <td>60.0</td>\n",
       "      <td>China</td>\n",
       "      <td>CHN</td>\n",
       "      <td>2012</td>\n",
       "      <td>Summer</td>\n",
       "      <td>London</td>\n",
       "      <td>Judo</td>\n",
       "      <td>Judo Men's Extra-Lightweight</td>\n",
       "      <td>NaN</td>\n",
       "    </tr>\n",
       "    <tr>\n",
       "      <th>2</th>\n",
       "      <td>Gunnar Nielsen Aaby</td>\n",
       "      <td>M</td>\n",
       "      <td>24.0</td>\n",
       "      <td>NaN</td>\n",
       "      <td>NaN</td>\n",
       "      <td>Denmark</td>\n",
       "      <td>DEN</td>\n",
       "      <td>1920</td>\n",
       "      <td>Summer</td>\n",
       "      <td>Antwerpen</td>\n",
       "      <td>Football</td>\n",
       "      <td>Football Men's Football</td>\n",
       "      <td>NaN</td>\n",
       "    </tr>\n",
       "    <tr>\n",
       "      <th>3</th>\n",
       "      <td>Edgar Lindenau Aabye</td>\n",
       "      <td>M</td>\n",
       "      <td>34.0</td>\n",
       "      <td>NaN</td>\n",
       "      <td>NaN</td>\n",
       "      <td>Denmark/Sweden</td>\n",
       "      <td>DEN</td>\n",
       "      <td>1900</td>\n",
       "      <td>Summer</td>\n",
       "      <td>Paris</td>\n",
       "      <td>Tug-Of-War</td>\n",
       "      <td>Tug-Of-War Men's Tug-Of-War</td>\n",
       "      <td>Gold</td>\n",
       "    </tr>\n",
       "    <tr>\n",
       "      <th>4</th>\n",
       "      <td>Christine Jacoba Aaftink</td>\n",
       "      <td>F</td>\n",
       "      <td>21.0</td>\n",
       "      <td>185.0</td>\n",
       "      <td>82.0</td>\n",
       "      <td>Netherlands</td>\n",
       "      <td>NED</td>\n",
       "      <td>1988</td>\n",
       "      <td>Winter</td>\n",
       "      <td>Calgary</td>\n",
       "      <td>Speed Skating</td>\n",
       "      <td>Speed Skating Women's 500 metres</td>\n",
       "      <td>NaN</td>\n",
       "    </tr>\n",
       "  </tbody>\n",
       "</table>\n",
       "</div>"
      ],
      "text/plain": [
       "                       Name Gender   Age  Height  Weight            Team  NOC  \\\n",
       "0                 A Dijiang      M  24.0   180.0    80.0           China  CHN   \n",
       "1                  A Lamusi      M  23.0   170.0    60.0           China  CHN   \n",
       "2       Gunnar Nielsen Aaby      M  24.0     NaN     NaN         Denmark  DEN   \n",
       "3      Edgar Lindenau Aabye      M  34.0     NaN     NaN  Denmark/Sweden  DEN   \n",
       "4  Christine Jacoba Aaftink      F  21.0   185.0    82.0     Netherlands  NED   \n",
       "\n",
       "   Year  Season       City          Sport                             Event  \\\n",
       "0  1992  Summer  Barcelona     Basketball       Basketball Men's Basketball   \n",
       "1  2012  Summer     London           Judo      Judo Men's Extra-Lightweight   \n",
       "2  1920  Summer  Antwerpen       Football           Football Men's Football   \n",
       "3  1900  Summer      Paris     Tug-Of-War       Tug-Of-War Men's Tug-Of-War   \n",
       "4  1988  Winter    Calgary  Speed Skating  Speed Skating Women's 500 metres   \n",
       "\n",
       "  Medal  \n",
       "0   NaN  \n",
       "1   NaN  \n",
       "2   NaN  \n",
       "3  Gold  \n",
       "4   NaN  "
      ]
     },
     "execution_count": 7,
     "metadata": {},
     "output_type": "execute_result"
    }
   ],
   "source": [
    "data.head()"
   ]
  },
  {
   "cell_type": "code",
   "execution_count": 8,
   "id": "4031cd13",
   "metadata": {},
   "outputs": [],
   "source": [
    "unique_event = pd.unique(data.Event)"
   ]
  },
  {
   "cell_type": "code",
   "execution_count": 9,
   "id": "b0c29d72",
   "metadata": {},
   "outputs": [],
   "source": [
    "# Her bir etkinliği dolaşıp o etkinliğe katılanların boy ve kilo ortalamasını bulacağız daha sonra nan verileri bu değerlerle dolduracağız."
   ]
  },
  {
   "cell_type": "code",
   "execution_count": 10,
   "id": "fab41b6d",
   "metadata": {},
   "outputs": [],
   "source": [
    "data_copy = data.copy() #gerçek veriyi bozmamak için bir kopyasını oluşturduk."
   ]
  },
  {
   "cell_type": "code",
   "execution_count": 11,
   "id": "0936620c",
   "metadata": {},
   "outputs": [],
   "source": [
    "height_weight_list = [\"Height\",\"Weight\"]\n",
    "for e in unique_event: #etkinlik listesi içerisinde dolaşacağız.\n",
    "    #etkinlik filtresi oluşturalım:\n",
    "    event_filter = data_copy.Event == e\n",
    "    #veriyi etkinliğe göre filtreleyelim:\n",
    "    data_filtered = data_copy[event_filter]\n",
    "    \n",
    "    #boy ve kilo için etkinlik özelinde ortalamaları hesaplaycağız:\n",
    "    for s in height_weight_list:\n",
    "        mean = np.round(np.mean(data_filtered[s]),2)\n",
    "        if ~np.isnan(mean): #Etkinliğe ait ortalama varsa:\n",
    "            data_filtered[s] = data_filtered[s].fillna(mean)\n",
    "            \n",
    "        else: #Etkinlik özelinde ortalama yoksa ortalama hesapla:\n",
    "            all_data_mean = np.round(np.mean(data[s]),2)# round noktadan sonra kaç rakama yuvarlayacağımızı belirtmemizi sağlar.\n",
    "            data_filtered[s] = data_filtered[s].fillna(all_data_mean)\n",
    "    \n",
    "    #Etkinlik özelinde kayıp değerleri doldurulmuş veriyi, geçici veriye eşitleyeceğim.\n",
    "    data_copy[event_filter] = data_filtered\n",
    "    \n",
    "#Kayıp değerleri giderilmiş geçici veriyi , gerçek veriye eşitleyelim:\n",
    "data = data_copy.copy()\n",
    "            \n",
    "            \n",
    "            "
   ]
  },
  {
   "cell_type": "code",
   "execution_count": 12,
   "id": "ef740a62",
   "metadata": {},
   "outputs": [
    {
     "name": "stdout",
     "output_type": "stream",
     "text": [
      "<class 'pandas.core.frame.DataFrame'>\n",
      "RangeIndex: 271116 entries, 0 to 271115\n",
      "Data columns (total 13 columns):\n",
      " #   Column  Non-Null Count   Dtype  \n",
      "---  ------  --------------   -----  \n",
      " 0   Name    271116 non-null  object \n",
      " 1   Gender  271116 non-null  object \n",
      " 2   Age     261642 non-null  float64\n",
      " 3   Height  271116 non-null  float64\n",
      " 4   Weight  271116 non-null  float64\n",
      " 5   Team    271116 non-null  object \n",
      " 6   NOC     271116 non-null  object \n",
      " 7   Year    271116 non-null  int64  \n",
      " 8   Season  271116 non-null  object \n",
      " 9   City    271116 non-null  object \n",
      " 10  Sport   271116 non-null  object \n",
      " 11  Event   271116 non-null  object \n",
      " 12  Medal   39783 non-null   object \n",
      "dtypes: float64(3), int64(1), object(9)\n",
      "memory usage: 26.9+ MB\n"
     ]
    }
   ],
   "source": [
    "data.info()"
   ]
  },
  {
   "cell_type": "code",
   "execution_count": 13,
   "id": "06bf2a02",
   "metadata": {},
   "outputs": [],
   "source": [
    "#Bu şekilde kayıp boy ve kilo verilerinin tümünü doldurmuş olduk."
   ]
  },
  {
   "cell_type": "code",
   "execution_count": 14,
   "id": "a9be8001",
   "metadata": {},
   "outputs": [
    {
     "name": "stdout",
     "output_type": "stream",
     "text": [
      "Mean age : 25.556898357297374\n"
     ]
    }
   ],
   "source": [
    "print(\"Mean age : {}\".format(np.mean(data[\"Age\"])))\n",
    "data[\"Age\"] = data[\"Age\"].fillna(np.round(np.mean(data[\"Age\"]))) #Yaş küsuratlı olamayacağından yuvarladım."
   ]
  },
  {
   "cell_type": "code",
   "execution_count": 15,
   "id": "4386c428",
   "metadata": {},
   "outputs": [
    {
     "name": "stdout",
     "output_type": "stream",
     "text": [
      "<class 'pandas.core.frame.DataFrame'>\n",
      "RangeIndex: 271116 entries, 0 to 271115\n",
      "Data columns (total 13 columns):\n",
      " #   Column  Non-Null Count   Dtype  \n",
      "---  ------  --------------   -----  \n",
      " 0   Name    271116 non-null  object \n",
      " 1   Gender  271116 non-null  object \n",
      " 2   Age     271116 non-null  float64\n",
      " 3   Height  271116 non-null  float64\n",
      " 4   Weight  271116 non-null  float64\n",
      " 5   Team    271116 non-null  object \n",
      " 6   NOC     271116 non-null  object \n",
      " 7   Year    271116 non-null  int64  \n",
      " 8   Season  271116 non-null  object \n",
      " 9   City    271116 non-null  object \n",
      " 10  Sport   271116 non-null  object \n",
      " 11  Event   271116 non-null  object \n",
      " 12  Medal   39783 non-null   object \n",
      "dtypes: float64(3), int64(1), object(9)\n",
      "memory usage: 26.9+ MB\n"
     ]
    }
   ],
   "source": [
    "data.info() # Yaş değerlerini de tüm verinin ortalamasına göre doldurduk."
   ]
  },
  {
   "cell_type": "code",
   "execution_count": 16,
   "id": "26036b97",
   "metadata": {},
   "outputs": [],
   "source": [
    "# Madalya alamamış sporcuları veri setinden çıkaracağım:\n",
    "data = data[~data[\"Medal\"].isnull()] # Madalya sütunu NaN olanlar dışındaki sporcuları almak için veriyi filtrelemiş oldum."
   ]
  },
  {
   "cell_type": "code",
   "execution_count": 17,
   "id": "59a20d02",
   "metadata": {},
   "outputs": [
    {
     "name": "stdout",
     "output_type": "stream",
     "text": [
      "<class 'pandas.core.frame.DataFrame'>\n",
      "Int64Index: 39783 entries, 3 to 271103\n",
      "Data columns (total 13 columns):\n",
      " #   Column  Non-Null Count  Dtype  \n",
      "---  ------  --------------  -----  \n",
      " 0   Name    39783 non-null  object \n",
      " 1   Gender  39783 non-null  object \n",
      " 2   Age     39783 non-null  float64\n",
      " 3   Height  39783 non-null  float64\n",
      " 4   Weight  39783 non-null  float64\n",
      " 5   Team    39783 non-null  object \n",
      " 6   NOC     39783 non-null  object \n",
      " 7   Year    39783 non-null  int64  \n",
      " 8   Season  39783 non-null  object \n",
      " 9   City    39783 non-null  object \n",
      " 10  Sport   39783 non-null  object \n",
      " 11  Event   39783 non-null  object \n",
      " 12  Medal   39783 non-null  object \n",
      "dtypes: float64(3), int64(1), object(9)\n",
      "memory usage: 4.2+ MB\n"
     ]
    }
   ],
   "source": [
    "data.info()"
   ]
  },
  {
   "cell_type": "code",
   "execution_count": 18,
   "id": "cf319283",
   "metadata": {},
   "outputs": [],
   "source": [
    "#Temizlenmiş  veriyi daha sonra kullanabilmek için kaydedelim:\n",
    "data.to_csv(\"Olympics_clean.csv\",index=False)"
   ]
  },
  {
   "cell_type": "code",
   "execution_count": 19,
   "id": "51383daa",
   "metadata": {},
   "outputs": [],
   "source": [
    "def plot_Histogram(var):\n",
    "    #Önce yazdığımız fonksu kısaca açıklayan yorumu yazıyoruz:\n",
    "    \"\"\"\n",
    "    Girdi: Değişken/sütun ismi\n",
    "    Çıktı: İlgili değişkenin histogramı\n",
    "    \"\"\"\n",
    "    plt.figure()\n",
    "    plt.hist(data[var],bins=85,color=\"orange\") #bins Eldeki verinin görsel olarak kaç parçaya bölüneceğini belirliyor.\n",
    "    plt.xlabel(var)\n",
    "    plt.ylabel(\"Frequency\")\n",
    "    plt.title(\"Data Frequency - {}\".format(var))\n",
    "    plt.show()"
   ]
  },
  {
   "cell_type": "code",
   "execution_count": 20,
   "id": "97d53a24",
   "metadata": {},
   "outputs": [
    {
     "data": {
      "image/png": "[encoded data removed]",
      "text/plain": [
       "<Figure size 432x288 with 1 Axes>"
      ]
     },
     "metadata": {
      "needs_background": "light"
     },
     "output_type": "display_data"
    },
    {
     "data": {
      "image/png": "[encoded data removed]",
      "text/plain": [
       "<Figure size 432x288 with 1 Axes>"
      ]
     },
     "metadata": {
      "needs_background": "light"
     },
     "output_type": "display_data"
    },
    {
     "data": {
      "image/png": "[encoded data removed]",
      "text/plain": [
       "<Figure size 432x288 with 1 Axes>"
      ]
     },
     "metadata": {
      "needs_background": "light"
     },
     "output_type": "display_data"
    },
    {
     "data": {
      "image/png": "[encoded data removed]",
      "text/plain": [
       "<Figure size 432x288 with 1 Axes>"
      ]
     },
     "metadata": {
      "needs_background": "light"
     },
     "output_type": "display_data"
    }
   ],
   "source": [
    "#Tüm sayısal değişkenler için histogramları çizdirelim:\n",
    "numeric_var = [\"Age\",\"Height\",\"Weight\",\"Year\"]\n",
    "for i in numeric_var:\n",
    "    plot_Histogram(i)"
   ]
  },
  {
   "cell_type": "code",
   "execution_count": 21,
   "id": "16dbd30d",
   "metadata": {},
   "outputs": [
    {
     "data": {
      "text/html": [
       "<div>\n",
       "<style scoped>\n",
       "    .dataframe tbody tr th:only-of-type {\n",
       "        vertical-align: middle;\n",
       "    }\n",
       "\n",
       "    .dataframe tbody tr th {\n",
       "        vertical-align: top;\n",
       "    }\n",
       "\n",
       "    .dataframe thead th {\n",
       "        text-align: right;\n",
       "    }\n",
       "</style>\n",
       "<table border=\"1\" class=\"dataframe\">\n",
       "  <thead>\n",
       "    <tr style=\"text-align: right;\">\n",
       "      <th></th>\n",
       "      <th>Age</th>\n",
       "      <th>Height</th>\n",
       "      <th>Weight</th>\n",
       "      <th>Year</th>\n",
       "    </tr>\n",
       "  </thead>\n",
       "  <tbody>\n",
       "    <tr>\n",
       "      <th>count</th>\n",
       "      <td>39783.000000</td>\n",
       "      <td>39783.000000</td>\n",
       "      <td>39783.000000</td>\n",
       "      <td>39783.000000</td>\n",
       "    </tr>\n",
       "    <tr>\n",
       "      <th>mean</th>\n",
       "      <td>25.926552</td>\n",
       "      <td>177.336690</td>\n",
       "      <td>73.738320</td>\n",
       "      <td>1973.943845</td>\n",
       "    </tr>\n",
       "    <tr>\n",
       "      <th>std</th>\n",
       "      <td>5.859372</td>\n",
       "      <td>10.170124</td>\n",
       "      <td>13.979041</td>\n",
       "      <td>33.822857</td>\n",
       "    </tr>\n",
       "    <tr>\n",
       "      <th>min</th>\n",
       "      <td>10.000000</td>\n",
       "      <td>136.000000</td>\n",
       "      <td>28.000000</td>\n",
       "      <td>1896.000000</td>\n",
       "    </tr>\n",
       "    <tr>\n",
       "      <th>25%</th>\n",
       "      <td>22.000000</td>\n",
       "      <td>170.000000</td>\n",
       "      <td>64.000000</td>\n",
       "      <td>1952.000000</td>\n",
       "    </tr>\n",
       "    <tr>\n",
       "      <th>50%</th>\n",
       "      <td>25.000000</td>\n",
       "      <td>177.480000</td>\n",
       "      <td>73.000000</td>\n",
       "      <td>1984.000000</td>\n",
       "    </tr>\n",
       "    <tr>\n",
       "      <th>75%</th>\n",
       "      <td>29.000000</td>\n",
       "      <td>184.000000</td>\n",
       "      <td>82.000000</td>\n",
       "      <td>2002.000000</td>\n",
       "    </tr>\n",
       "    <tr>\n",
       "      <th>max</th>\n",
       "      <td>73.000000</td>\n",
       "      <td>223.000000</td>\n",
       "      <td>182.000000</td>\n",
       "      <td>2016.000000</td>\n",
       "    </tr>\n",
       "  </tbody>\n",
       "</table>\n",
       "</div>"
      ],
      "text/plain": [
       "                Age        Height        Weight          Year\n",
       "count  39783.000000  39783.000000  39783.000000  39783.000000\n",
       "mean      25.926552    177.336690     73.738320   1973.943845\n",
       "std        5.859372     10.170124     13.979041     33.822857\n",
       "min       10.000000    136.000000     28.000000   1896.000000\n",
       "25%       22.000000    170.000000     64.000000   1952.000000\n",
       "50%       25.000000    177.480000     73.000000   1984.000000\n",
       "75%       29.000000    184.000000     82.000000   2002.000000\n",
       "max       73.000000    223.000000    182.000000   2016.000000"
      ]
     },
     "execution_count": 21,
     "metadata": {},
     "output_type": "execute_result"
    }
   ],
   "source": [
    "#Sayısal verinin istatiksel özelliklerini inceleyelim:\n",
    "data.describe()"
   ]
  },
  {
   "cell_type": "code",
   "execution_count": 22,
   "id": "16b5a9f2",
   "metadata": {},
   "outputs": [
    {
     "data": {
      "image/png": "[encoded data removed]",
      "text/plain": [
       "<Figure size 432x288 with 1 Axes>"
      ]
     },
     "metadata": {
      "needs_background": "light"
     },
     "output_type": "display_data"
    }
   ],
   "source": [
    "# Yaş özelliğini kutu grafiği ile inceleyelim:\n",
    "plt.boxplot(data[\"Age\"])\n",
    "plt.title(\"Age Boxplot Graph\")\n",
    "plt.xlabel(\"Age\")\n",
    "plt.ylabel(\"Value\")\n",
    "plt.show()"
   ]
  },
  {
   "cell_type": "code",
   "execution_count": 23,
   "id": "b254af87",
   "metadata": {},
   "outputs": [],
   "source": [
    "#Kategorik değişkenler için: Sütun Grafiği kullanırız\n",
    "#Önce bar graph çizdireceğimiz metodu yazalım:\n",
    "def plot_Bar(var , n = 5): #n En çok görülen kaç değeri sütun olarak çizdireceğimizi belirtir.\n",
    "    \"\"\"\n",
    "    Girdi: Değişken ismi\n",
    "    n : Gösterilecek en sık rastlanan eşsiz değer sayısı\n",
    "    Çıktı : Sütun grafiği\n",
    "    \"\"\"\n",
    "    data_ = data[var]\n",
    "    data_count = data_.value_counts()\n",
    "    data_count = data_count[:n] # ilk n sıklıkltaki değeri alacağız.\n",
    "    plt.figure()\n",
    "    plt.bar(data_count.index,data_count,color=\"orange\")\n",
    "    plt.xticks(data_count.index,data_count.index.values)\n",
    "    plt.xticks(rotation=45) #etiketlerin sütunların altında eğil bir şekilde bulunması için\n",
    "    plt.ylabel(\"Frequency\")\n",
    "    plt.title(\"Frequency of {} BarGraph\".format(var))\n",
    "    plt.show()\n",
    "    print(\"{} : \\n {}\".format(var , data_count))"
   ]
  },
  {
   "cell_type": "code",
   "execution_count": 24,
   "id": "83a4b070",
   "metadata": {},
   "outputs": [
    {
     "data": {
      "image/png": "[encoded data removed]",
      "text/plain": [
       "<Figure size 432x288 with 1 Axes>"
      ]
     },
     "metadata": {
      "needs_background": "light"
     },
     "output_type": "display_data"
    },
    {
     "name": "stdout",
     "output_type": "stream",
     "text": [
      "Name : \n",
      " Michael Fred Phelps, II               28\n",
      "Larysa Semenivna Latynina (Diriy-)    18\n",
      "Nikolay Yefimovich Andrianov          15\n",
      "Ole Einar Bjrndalen                   13\n",
      "Edoardo Mangiarotti                   13\n",
      "Name: Name, dtype: int64\n"
     ]
    },
    {
     "data": {
      "image/png": "[encoded data removed]",
      "text/plain": [
       "<Figure size 432x288 with 1 Axes>"
      ]
     },
     "metadata": {
      "needs_background": "light"
     },
     "output_type": "display_data"
    },
    {
     "name": "stdout",
     "output_type": "stream",
     "text": [
      "Gender : \n",
      " M    28530\n",
      "F    11253\n",
      "Name: Gender, dtype: int64\n"
     ]
    },
    {
     "data": {
      "image/png": "[encoded data removed]",
      "text/plain": [
       "<Figure size 432x288 with 1 Axes>"
      ]
     },
     "metadata": {
      "needs_background": "light"
     },
     "output_type": "display_data"
    },
    {
     "name": "stdout",
     "output_type": "stream",
     "text": [
      "Team : \n",
      " United States    5219\n",
      "Soviet Union     2451\n",
      "Germany          1984\n",
      "Great Britain    1673\n",
      "France           1550\n",
      "Name: Team, dtype: int64\n"
     ]
    },
    {
     "data": {
      "image/png": "[encoded data removed]",
      "text/plain": [
       "<Figure size 432x288 with 1 Axes>"
      ]
     },
     "metadata": {
      "needs_background": "light"
     },
     "output_type": "display_data"
    },
    {
     "name": "stdout",
     "output_type": "stream",
     "text": [
      "NOC : \n",
      " USA    5637\n",
      "URS    2503\n",
      "GER    2165\n",
      "GBR    2068\n",
      "FRA    1777\n",
      "Name: NOC, dtype: int64\n"
     ]
    },
    {
     "data": {
      "image/png": "[encoded data removed]",
      "text/plain": [
       "<Figure size 432x288 with 1 Axes>"
      ]
     },
     "metadata": {
      "needs_background": "light"
     },
     "output_type": "display_data"
    },
    {
     "name": "stdout",
     "output_type": "stream",
     "text": [
      "Season : \n",
      " Summer    34088\n",
      "Winter     5695\n",
      "Name: Season, dtype: int64\n"
     ]
    },
    {
     "data": {
      "image/png": "[encoded data removed]",
      "text/plain": [
       "<Figure size 432x288 with 1 Axes>"
      ]
     },
     "metadata": {
      "needs_background": "light"
     },
     "output_type": "display_data"
    },
    {
     "name": "stdout",
     "output_type": "stream",
     "text": [
      "City : \n",
      " London            3624\n",
      "Athina            2602\n",
      "Los Angeles       2123\n",
      "Beijing           2048\n",
      "Rio de Janeiro    2023\n",
      "Name: City, dtype: int64\n"
     ]
    },
    {
     "data": {
      "image/png": "[encoded data removed]",
      "text/plain": [
       "<Figure size 432x288 with 1 Axes>"
      ]
     },
     "metadata": {
      "needs_background": "light"
     },
     "output_type": "display_data"
    },
    {
     "name": "stdout",
     "output_type": "stream",
     "text": [
      "Sport : \n",
      " Athletics     3969\n",
      "Swimming      3048\n",
      "Rowing        2945\n",
      "Gymnastics    2256\n",
      "Fencing       1743\n",
      "Name: Sport, dtype: int64\n"
     ]
    },
    {
     "data": {
      "image/png": "[encoded data removed]",
      "text/plain": [
       "<Figure size 432x288 with 1 Axes>"
      ]
     },
     "metadata": {
      "needs_background": "light"
     },
     "output_type": "display_data"
    },
    {
     "name": "stdout",
     "output_type": "stream",
     "text": [
      "Event : \n",
      " Football Men's Football        1269\n",
      "Ice Hockey Men's Ice Hockey    1230\n",
      "Hockey Men's Hockey            1050\n",
      "Water Polo Men's Water Polo     866\n",
      "Rowing Men's Coxed Eights       730\n",
      "Name: Event, dtype: int64\n"
     ]
    },
    {
     "data": {
      "image/png": "[encoded data removed]",
      "text/plain": [
       "<Figure size 432x288 with 1 Axes>"
      ]
     },
     "metadata": {
      "needs_background": "light"
     },
     "output_type": "display_data"
    },
    {
     "name": "stdout",
     "output_type": "stream",
     "text": [
      "Medal : \n",
      " Gold      13372\n",
      "Bronze    13295\n",
      "Silver    13116\n",
      "Name: Medal, dtype: int64\n"
     ]
    }
   ],
   "source": [
    "chategoric_var = [\"Name\",\"Gender\",\"Team\",\"NOC\",\"Season\",\"City\",\"Sport\",\"Event\",\"Medal\"]\n",
    "for i in chategoric_var:\n",
    "    plot_Bar(i)"
   ]
  },
  {
   "cell_type": "markdown",
   "id": "604a3120",
   "metadata": {},
   "source": [
    "# İki Değişkenli Veri Analizi:"
   ]
  },
  {
   "cell_type": "code",
   "execution_count": 25,
   "id": "c7efeec3",
   "metadata": {},
   "outputs": [],
   "source": [
    "data_male = data[data[\"Gender\"]==\"M\"]\n",
    "data_female = data[data[\"Gender\"]!=\"M\"]"
   ]
  },
  {
   "cell_type": "code",
   "execution_count": 26,
   "id": "5652a894",
   "metadata": {},
   "outputs": [
    {
     "data": {
      "text/html": [
       "<div>\n",
       "<style scoped>\n",
       "    .dataframe tbody tr th:only-of-type {\n",
       "        vertical-align: middle;\n",
       "    }\n",
       "\n",
       "    .dataframe tbody tr th {\n",
       "        vertical-align: top;\n",
       "    }\n",
       "\n",
       "    .dataframe thead th {\n",
       "        text-align: right;\n",
       "    }\n",
       "</style>\n",
       "<table border=\"1\" class=\"dataframe\">\n",
       "  <thead>\n",
       "    <tr style=\"text-align: right;\">\n",
       "      <th></th>\n",
       "      <th>Name</th>\n",
       "      <th>Gender</th>\n",
       "      <th>Age</th>\n",
       "      <th>Height</th>\n",
       "      <th>Weight</th>\n",
       "      <th>Team</th>\n",
       "      <th>NOC</th>\n",
       "      <th>Year</th>\n",
       "      <th>Season</th>\n",
       "      <th>City</th>\n",
       "      <th>Sport</th>\n",
       "      <th>Event</th>\n",
       "      <th>Medal</th>\n",
       "    </tr>\n",
       "  </thead>\n",
       "  <tbody>\n",
       "    <tr>\n",
       "      <th>3</th>\n",
       "      <td>Edgar Lindenau Aabye</td>\n",
       "      <td>M</td>\n",
       "      <td>34.0</td>\n",
       "      <td>182.48</td>\n",
       "      <td>95.62</td>\n",
       "      <td>Denmark/Sweden</td>\n",
       "      <td>DEN</td>\n",
       "      <td>1900</td>\n",
       "      <td>Summer</td>\n",
       "      <td>Paris</td>\n",
       "      <td>Tug-Of-War</td>\n",
       "      <td>Tug-Of-War Men's Tug-Of-War</td>\n",
       "      <td>Gold</td>\n",
       "    </tr>\n",
       "    <tr>\n",
       "      <th>37</th>\n",
       "      <td>Arvo Ossian Aaltonen</td>\n",
       "      <td>M</td>\n",
       "      <td>30.0</td>\n",
       "      <td>182.01</td>\n",
       "      <td>76.69</td>\n",
       "      <td>Finland</td>\n",
       "      <td>FIN</td>\n",
       "      <td>1920</td>\n",
       "      <td>Summer</td>\n",
       "      <td>Antwerpen</td>\n",
       "      <td>Swimming</td>\n",
       "      <td>Swimming Men's 200 metres Breaststroke</td>\n",
       "      <td>Bronze</td>\n",
       "    </tr>\n",
       "    <tr>\n",
       "      <th>38</th>\n",
       "      <td>Arvo Ossian Aaltonen</td>\n",
       "      <td>M</td>\n",
       "      <td>30.0</td>\n",
       "      <td>177.00</td>\n",
       "      <td>75.00</td>\n",
       "      <td>Finland</td>\n",
       "      <td>FIN</td>\n",
       "      <td>1920</td>\n",
       "      <td>Summer</td>\n",
       "      <td>Antwerpen</td>\n",
       "      <td>Swimming</td>\n",
       "      <td>Swimming Men's 400 metres Breaststroke</td>\n",
       "      <td>Bronze</td>\n",
       "    </tr>\n",
       "  </tbody>\n",
       "</table>\n",
       "</div>"
      ],
      "text/plain": [
       "                    Name Gender   Age  Height  Weight            Team  NOC  \\\n",
       "3   Edgar Lindenau Aabye      M  34.0  182.48   95.62  Denmark/Sweden  DEN   \n",
       "37  Arvo Ossian Aaltonen      M  30.0  182.01   76.69         Finland  FIN   \n",
       "38  Arvo Ossian Aaltonen      M  30.0  177.00   75.00         Finland  FIN   \n",
       "\n",
       "    Year  Season       City       Sport  \\\n",
       "3   1900  Summer      Paris  Tug-Of-War   \n",
       "37  1920  Summer  Antwerpen    Swimming   \n",
       "38  1920  Summer  Antwerpen    Swimming   \n",
       "\n",
       "                                     Event   Medal  \n",
       "3              Tug-Of-War Men's Tug-Of-War    Gold  \n",
       "37  Swimming Men's 200 metres Breaststroke  Bronze  \n",
       "38  Swimming Men's 400 metres Breaststroke  Bronze  "
      ]
     },
     "execution_count": 26,
     "metadata": {},
     "output_type": "execute_result"
    }
   ],
   "source": [
    "data_male.head(3)"
   ]
  },
  {
   "cell_type": "code",
   "execution_count": 27,
   "id": "d528b380",
   "metadata": {},
   "outputs": [
    {
     "data": {
      "text/html": [
       "<div>\n",
       "<style scoped>\n",
       "    .dataframe tbody tr th:only-of-type {\n",
       "        vertical-align: middle;\n",
       "    }\n",
       "\n",
       "    .dataframe tbody tr th {\n",
       "        vertical-align: top;\n",
       "    }\n",
       "\n",
       "    .dataframe thead th {\n",
       "        text-align: right;\n",
       "    }\n",
       "</style>\n",
       "<table border=\"1\" class=\"dataframe\">\n",
       "  <thead>\n",
       "    <tr style=\"text-align: right;\">\n",
       "      <th></th>\n",
       "      <th>Name</th>\n",
       "      <th>Gender</th>\n",
       "      <th>Age</th>\n",
       "      <th>Height</th>\n",
       "      <th>Weight</th>\n",
       "      <th>Team</th>\n",
       "      <th>NOC</th>\n",
       "      <th>Year</th>\n",
       "      <th>Season</th>\n",
       "      <th>City</th>\n",
       "      <th>Sport</th>\n",
       "      <th>Event</th>\n",
       "      <th>Medal</th>\n",
       "    </tr>\n",
       "  </thead>\n",
       "  <tbody>\n",
       "    <tr>\n",
       "      <th>79</th>\n",
       "      <td>Ragnhild Margrethe Aamodt</td>\n",
       "      <td>F</td>\n",
       "      <td>27.0</td>\n",
       "      <td>163.00</td>\n",
       "      <td>68.88</td>\n",
       "      <td>Norway</td>\n",
       "      <td>NOR</td>\n",
       "      <td>2008</td>\n",
       "      <td>Summer</td>\n",
       "      <td>Beijing</td>\n",
       "      <td>Handball</td>\n",
       "      <td>Handball Women's Handball</td>\n",
       "      <td>Gold</td>\n",
       "    </tr>\n",
       "    <tr>\n",
       "      <th>91</th>\n",
       "      <td>Willemien Aardenburg</td>\n",
       "      <td>F</td>\n",
       "      <td>22.0</td>\n",
       "      <td>166.13</td>\n",
       "      <td>60.53</td>\n",
       "      <td>Netherlands</td>\n",
       "      <td>NED</td>\n",
       "      <td>1988</td>\n",
       "      <td>Summer</td>\n",
       "      <td>Seoul</td>\n",
       "      <td>Hockey</td>\n",
       "      <td>Hockey Women's Hockey</td>\n",
       "      <td>Bronze</td>\n",
       "    </tr>\n",
       "    <tr>\n",
       "      <th>105</th>\n",
       "      <td>Ann Kristin Aarnes</td>\n",
       "      <td>F</td>\n",
       "      <td>23.0</td>\n",
       "      <td>182.00</td>\n",
       "      <td>64.00</td>\n",
       "      <td>Norway</td>\n",
       "      <td>NOR</td>\n",
       "      <td>1996</td>\n",
       "      <td>Summer</td>\n",
       "      <td>Atlanta</td>\n",
       "      <td>Football</td>\n",
       "      <td>Football Women's Football</td>\n",
       "      <td>Bronze</td>\n",
       "    </tr>\n",
       "  </tbody>\n",
       "</table>\n",
       "</div>"
      ],
      "text/plain": [
       "                          Name Gender   Age  Height  Weight         Team  NOC  \\\n",
       "79   Ragnhild Margrethe Aamodt      F  27.0  163.00   68.88       Norway  NOR   \n",
       "91        Willemien Aardenburg      F  22.0  166.13   60.53  Netherlands  NED   \n",
       "105         Ann Kristin Aarnes      F  23.0  182.00   64.00       Norway  NOR   \n",
       "\n",
       "     Year  Season     City     Sport                      Event   Medal  \n",
       "79   2008  Summer  Beijing  Handball  Handball Women's Handball    Gold  \n",
       "91   1988  Summer    Seoul    Hockey      Hockey Women's Hockey  Bronze  \n",
       "105  1996  Summer  Atlanta  Football  Football Women's Football  Bronze  "
      ]
     },
     "execution_count": 27,
     "metadata": {},
     "output_type": "execute_result"
    }
   ],
   "source": [
    "data_female.head(3)"
   ]
  },
  {
   "cell_type": "code",
   "execution_count": 28,
   "id": "273de235",
   "metadata": {},
   "outputs": [
    {
     "data": {
      "image/png": "[encoded data removed]",
      "text/plain": [
       "<Figure size 432x288 with 1 Axes>"
      ]
     },
     "metadata": {
      "needs_background": "light"
     },
     "output_type": "display_data"
    }
   ],
   "source": [
    "plt.figure()\n",
    "plt.scatter(data_female.Height,data_female.Weight,alpha=0.5,label=\"Female\",color=\"pink\")#alpha değeri transparanlık sağlıyor.\n",
    "plt.scatter(data_male.Height,data_male.Weight,alpha=0.5,label=\"Male\",color=\"blue\")\n",
    "plt.xlabel(\"Height\")\n",
    "plt.ylabel(\"Weight\")\n",
    "plt.title(\"Relation between Height - Weight\")\n",
    "plt.legend()\n",
    "plt.show()"
   ]
  },
  {
   "cell_type": "code",
   "execution_count": 29,
   "id": "4234e35a",
   "metadata": {},
   "outputs": [],
   "source": [
    "# Bu grafikten boy ile kilonun pozitif korelasyonu olduğunu anlayabiliyoruz."
   ]
  },
  {
   "cell_type": "markdown",
   "id": "b8e1a1ca",
   "metadata": {},
   "source": [
    "# Sayısal Veriler Arasında İlişki İncelemesi"
   ]
  },
  {
   "cell_type": "code",
   "execution_count": 30,
   "id": "9079b51e",
   "metadata": {},
   "outputs": [
    {
     "data": {
      "text/html": [
       "<div>\n",
       "<style scoped>\n",
       "    .dataframe tbody tr th:only-of-type {\n",
       "        vertical-align: middle;\n",
       "    }\n",
       "\n",
       "    .dataframe tbody tr th {\n",
       "        vertical-align: top;\n",
       "    }\n",
       "\n",
       "    .dataframe thead th {\n",
       "        text-align: right;\n",
       "    }\n",
       "</style>\n",
       "<table border=\"1\" class=\"dataframe\">\n",
       "  <thead>\n",
       "    <tr style=\"text-align: right;\">\n",
       "      <th></th>\n",
       "      <th>Age</th>\n",
       "      <th>Height</th>\n",
       "      <th>Weight</th>\n",
       "    </tr>\n",
       "  </thead>\n",
       "  <tbody>\n",
       "    <tr>\n",
       "      <th>Age</th>\n",
       "      <td>1.000000</td>\n",
       "      <td>0.061727</td>\n",
       "      <td>0.136404</td>\n",
       "    </tr>\n",
       "    <tr>\n",
       "      <th>Height</th>\n",
       "      <td>0.061727</td>\n",
       "      <td>1.000000</td>\n",
       "      <td>0.794368</td>\n",
       "    </tr>\n",
       "    <tr>\n",
       "      <th>Weight</th>\n",
       "      <td>0.136404</td>\n",
       "      <td>0.794368</td>\n",
       "      <td>1.000000</td>\n",
       "    </tr>\n",
       "  </tbody>\n",
       "</table>\n",
       "</div>"
      ],
      "text/plain": [
       "             Age    Height    Weight\n",
       "Age     1.000000  0.061727  0.136404\n",
       "Height  0.061727  1.000000  0.794368\n",
       "Weight  0.136404  0.794368  1.000000"
      ]
     },
     "execution_count": 30,
     "metadata": {},
     "output_type": "execute_result"
    }
   ],
   "source": [
    "data.loc[:,[\"Age\",\"Height\",\"Weight\"]].corr() #loc ile verinin hangi kısmını almak istediğimizi belirttik bütün satırları ve sayısal veri olan yaş boy kilo sütunlarını aldık .corr metodu ile de bu sütunlar arası korelasyonun tablosunu çıkaracağız."
   ]
  },
  {
   "cell_type": "code",
   "execution_count": 31,
   "id": "3c958061",
   "metadata": {},
   "outputs": [],
   "source": [
    "#Grafikten çıkarımını yaptığımız boy kilo korelasyonunu buradan da görebiliriz."
   ]
  },
  {
   "cell_type": "markdown",
   "id": "9c742c55",
   "metadata": {},
   "source": [
    "# Madalya ve Yaş Arasındaki İlişki:"
   ]
  },
  {
   "cell_type": "code",
   "execution_count": 32,
   "id": "e7d0e7fe",
   "metadata": {
    "scrolled": true
   },
   "outputs": [
    {
     "data": {
      "text/html": [
       "<div>\n",
       "<style scoped>\n",
       "    .dataframe tbody tr th:only-of-type {\n",
       "        vertical-align: middle;\n",
       "    }\n",
       "\n",
       "    .dataframe tbody tr th {\n",
       "        vertical-align: top;\n",
       "    }\n",
       "\n",
       "    .dataframe thead th {\n",
       "        text-align: right;\n",
       "    }\n",
       "</style>\n",
       "<table border=\"1\" class=\"dataframe\">\n",
       "  <thead>\n",
       "    <tr style=\"text-align: right;\">\n",
       "      <th></th>\n",
       "      <th>Name</th>\n",
       "      <th>Gender</th>\n",
       "      <th>Age</th>\n",
       "      <th>Height</th>\n",
       "      <th>Weight</th>\n",
       "      <th>Team</th>\n",
       "      <th>NOC</th>\n",
       "      <th>Year</th>\n",
       "      <th>Season</th>\n",
       "      <th>City</th>\n",
       "      <th>Sport</th>\n",
       "      <th>Event</th>\n",
       "      <th>Medal_Bronze</th>\n",
       "      <th>Medal_Gold</th>\n",
       "      <th>Medal_Silver</th>\n",
       "    </tr>\n",
       "  </thead>\n",
       "  <tbody>\n",
       "    <tr>\n",
       "      <th>3</th>\n",
       "      <td>Edgar Lindenau Aabye</td>\n",
       "      <td>M</td>\n",
       "      <td>34.0</td>\n",
       "      <td>182.48</td>\n",
       "      <td>95.62</td>\n",
       "      <td>Denmark/Sweden</td>\n",
       "      <td>DEN</td>\n",
       "      <td>1900</td>\n",
       "      <td>Summer</td>\n",
       "      <td>Paris</td>\n",
       "      <td>Tug-Of-War</td>\n",
       "      <td>Tug-Of-War Men's Tug-Of-War</td>\n",
       "      <td>0</td>\n",
       "      <td>1</td>\n",
       "      <td>0</td>\n",
       "    </tr>\n",
       "    <tr>\n",
       "      <th>37</th>\n",
       "      <td>Arvo Ossian Aaltonen</td>\n",
       "      <td>M</td>\n",
       "      <td>30.0</td>\n",
       "      <td>182.01</td>\n",
       "      <td>76.69</td>\n",
       "      <td>Finland</td>\n",
       "      <td>FIN</td>\n",
       "      <td>1920</td>\n",
       "      <td>Summer</td>\n",
       "      <td>Antwerpen</td>\n",
       "      <td>Swimming</td>\n",
       "      <td>Swimming Men's 200 metres Breaststroke</td>\n",
       "      <td>1</td>\n",
       "      <td>0</td>\n",
       "      <td>0</td>\n",
       "    </tr>\n",
       "    <tr>\n",
       "      <th>38</th>\n",
       "      <td>Arvo Ossian Aaltonen</td>\n",
       "      <td>M</td>\n",
       "      <td>30.0</td>\n",
       "      <td>177.00</td>\n",
       "      <td>75.00</td>\n",
       "      <td>Finland</td>\n",
       "      <td>FIN</td>\n",
       "      <td>1920</td>\n",
       "      <td>Summer</td>\n",
       "      <td>Antwerpen</td>\n",
       "      <td>Swimming</td>\n",
       "      <td>Swimming Men's 400 metres Breaststroke</td>\n",
       "      <td>1</td>\n",
       "      <td>0</td>\n",
       "      <td>0</td>\n",
       "    </tr>\n",
       "  </tbody>\n",
       "</table>\n",
       "</div>"
      ],
      "text/plain": [
       "                    Name Gender   Age  Height  Weight            Team  NOC  \\\n",
       "3   Edgar Lindenau Aabye      M  34.0  182.48   95.62  Denmark/Sweden  DEN   \n",
       "37  Arvo Ossian Aaltonen      M  30.0  182.01   76.69         Finland  FIN   \n",
       "38  Arvo Ossian Aaltonen      M  30.0  177.00   75.00         Finland  FIN   \n",
       "\n",
       "    Year  Season       City       Sport  \\\n",
       "3   1900  Summer      Paris  Tug-Of-War   \n",
       "37  1920  Summer  Antwerpen    Swimming   \n",
       "38  1920  Summer  Antwerpen    Swimming   \n",
       "\n",
       "                                     Event  Medal_Bronze  Medal_Gold  \\\n",
       "3              Tug-Of-War Men's Tug-Of-War             0           1   \n",
       "37  Swimming Men's 200 metres Breaststroke             1           0   \n",
       "38  Swimming Men's 400 metres Breaststroke             1           0   \n",
       "\n",
       "    Medal_Silver  \n",
       "3              0  \n",
       "37             0  \n",
       "38             0  "
      ]
     },
     "execution_count": 32,
     "metadata": {},
     "output_type": "execute_result"
    }
   ],
   "source": [
    "#Sporcularımızı altın , gümüş ve bronz madalyaya göre ayıralım:\n",
    "data_temp = data.copy()\n",
    "data_temp = pd.get_dummies(data_temp,columns=[\"Medal\"])# bir kategorik sütunun elemanlarını ayrı sütunlar olarak verimize ekledik.\n",
    "data_temp.head(3)"
   ]
  },
  {
   "cell_type": "code",
   "execution_count": 33,
   "id": "67c35460",
   "metadata": {},
   "outputs": [
    {
     "data": {
      "text/html": [
       "<div>\n",
       "<style scoped>\n",
       "    .dataframe tbody tr th:only-of-type {\n",
       "        vertical-align: middle;\n",
       "    }\n",
       "\n",
       "    .dataframe tbody tr th {\n",
       "        vertical-align: top;\n",
       "    }\n",
       "\n",
       "    .dataframe thead th {\n",
       "        text-align: right;\n",
       "    }\n",
       "</style>\n",
       "<table border=\"1\" class=\"dataframe\">\n",
       "  <thead>\n",
       "    <tr style=\"text-align: right;\">\n",
       "      <th></th>\n",
       "      <th>Age</th>\n",
       "      <th>Medal_Bronze</th>\n",
       "      <th>Medal_Gold</th>\n",
       "      <th>Medal_Silver</th>\n",
       "    </tr>\n",
       "  </thead>\n",
       "  <tbody>\n",
       "    <tr>\n",
       "      <th>Age</th>\n",
       "      <td>1.000000</td>\n",
       "      <td>-0.005407</td>\n",
       "      <td>-0.002968</td>\n",
       "      <td>0.008408</td>\n",
       "    </tr>\n",
       "    <tr>\n",
       "      <th>Medal_Bronze</th>\n",
       "      <td>-0.005407</td>\n",
       "      <td>1.000000</td>\n",
       "      <td>-0.504110</td>\n",
       "      <td>-0.496859</td>\n",
       "    </tr>\n",
       "    <tr>\n",
       "      <th>Medal_Gold</th>\n",
       "      <td>-0.002968</td>\n",
       "      <td>-0.504110</td>\n",
       "      <td>1.000000</td>\n",
       "      <td>-0.499022</td>\n",
       "    </tr>\n",
       "    <tr>\n",
       "      <th>Medal_Silver</th>\n",
       "      <td>0.008408</td>\n",
       "      <td>-0.496859</td>\n",
       "      <td>-0.499022</td>\n",
       "      <td>1.000000</td>\n",
       "    </tr>\n",
       "  </tbody>\n",
       "</table>\n",
       "</div>"
      ],
      "text/plain": [
       "                   Age  Medal_Bronze  Medal_Gold  Medal_Silver\n",
       "Age           1.000000     -0.005407   -0.002968      0.008408\n",
       "Medal_Bronze -0.005407      1.000000   -0.504110     -0.496859\n",
       "Medal_Gold   -0.002968     -0.504110    1.000000     -0.499022\n",
       "Medal_Silver  0.008408     -0.496859   -0.499022      1.000000"
      ]
     },
     "execution_count": 33,
     "metadata": {},
     "output_type": "execute_result"
    }
   ],
   "source": [
    "data_temp.loc[:,[\"Age\",\"Medal_Bronze\",\"Medal_Gold\",\"Medal_Silver\"]].corr()"
   ]
  },
  {
   "cell_type": "code",
   "execution_count": 34,
   "id": "8f9bc9c8",
   "metadata": {},
   "outputs": [],
   "source": [
    "# Madalya kazanmak ile yaş arasında anlamlı bir ilinti bulunmamakta"
   ]
  },
  {
   "cell_type": "markdown",
   "id": "c30f7014",
   "metadata": {},
   "source": [
    "# Takımların Kazandıkları Altın , Gümüş , Bronz Madalya Sayısı:"
   ]
  },
  {
   "cell_type": "code",
   "execution_count": 35,
   "id": "13098c2b",
   "metadata": {},
   "outputs": [
    {
     "data": {
      "text/html": [
       "<div>\n",
       "<style scoped>\n",
       "    .dataframe tbody tr th:only-of-type {\n",
       "        vertical-align: middle;\n",
       "    }\n",
       "\n",
       "    .dataframe tbody tr th {\n",
       "        vertical-align: top;\n",
       "    }\n",
       "\n",
       "    .dataframe thead th {\n",
       "        text-align: right;\n",
       "    }\n",
       "</style>\n",
       "<table border=\"1\" class=\"dataframe\">\n",
       "  <thead>\n",
       "    <tr style=\"text-align: right;\">\n",
       "      <th></th>\n",
       "      <th>Team</th>\n",
       "      <th>Medal_Bronze</th>\n",
       "      <th>Medal_Gold</th>\n",
       "      <th>Medal_Silver</th>\n",
       "    </tr>\n",
       "  </thead>\n",
       "  <tbody>\n",
       "    <tr>\n",
       "      <th>462</th>\n",
       "      <td>United States</td>\n",
       "      <td>1233.0</td>\n",
       "      <td>2474.0</td>\n",
       "      <td>1512.0</td>\n",
       "    </tr>\n",
       "    <tr>\n",
       "      <th>403</th>\n",
       "      <td>Soviet Union</td>\n",
       "      <td>677.0</td>\n",
       "      <td>1058.0</td>\n",
       "      <td>716.0</td>\n",
       "    </tr>\n",
       "    <tr>\n",
       "      <th>165</th>\n",
       "      <td>Germany</td>\n",
       "      <td>678.0</td>\n",
       "      <td>679.0</td>\n",
       "      <td>627.0</td>\n",
       "    </tr>\n",
       "    <tr>\n",
       "      <th>215</th>\n",
       "      <td>Italy</td>\n",
       "      <td>484.0</td>\n",
       "      <td>535.0</td>\n",
       "      <td>508.0</td>\n",
       "    </tr>\n",
       "    <tr>\n",
       "      <th>171</th>\n",
       "      <td>Great Britain</td>\n",
       "      <td>572.0</td>\n",
       "      <td>519.0</td>\n",
       "      <td>582.0</td>\n",
       "    </tr>\n",
       "    <tr>\n",
       "      <th>149</th>\n",
       "      <td>France</td>\n",
       "      <td>577.0</td>\n",
       "      <td>455.0</td>\n",
       "      <td>518.0</td>\n",
       "    </tr>\n",
       "    <tr>\n",
       "      <th>420</th>\n",
       "      <td>Sweden</td>\n",
       "      <td>507.0</td>\n",
       "      <td>451.0</td>\n",
       "      <td>476.0</td>\n",
       "    </tr>\n",
       "    <tr>\n",
       "      <th>198</th>\n",
       "      <td>Hungary</td>\n",
       "      <td>365.0</td>\n",
       "      <td>432.0</td>\n",
       "      <td>330.0</td>\n",
       "    </tr>\n",
       "    <tr>\n",
       "      <th>67</th>\n",
       "      <td>Canada</td>\n",
       "      <td>408.0</td>\n",
       "      <td>422.0</td>\n",
       "      <td>413.0</td>\n",
       "    </tr>\n",
       "    <tr>\n",
       "      <th>117</th>\n",
       "      <td>East Germany</td>\n",
       "      <td>263.0</td>\n",
       "      <td>369.0</td>\n",
       "      <td>309.0</td>\n",
       "    </tr>\n",
       "  </tbody>\n",
       "</table>\n",
       "</div>"
      ],
      "text/plain": [
       "              Team  Medal_Bronze  Medal_Gold  Medal_Silver\n",
       "462  United States        1233.0      2474.0        1512.0\n",
       "403   Soviet Union         677.0      1058.0         716.0\n",
       "165        Germany         678.0       679.0         627.0\n",
       "215          Italy         484.0       535.0         508.0\n",
       "171  Great Britain         572.0       519.0         582.0\n",
       "149         France         577.0       455.0         518.0\n",
       "420         Sweden         507.0       451.0         476.0\n",
       "198        Hungary         365.0       432.0         330.0\n",
       "67          Canada         408.0       422.0         413.0\n",
       "117   East Germany         263.0       369.0         309.0"
      ]
     },
     "execution_count": 35,
     "metadata": {},
     "output_type": "execute_result"
    }
   ],
   "source": [
    "data_temp.loc[:,[\"Team\",\"Medal_Bronze\",\"Medal_Gold\",\"Medal_Silver\"]].groupby([\"Team\"],as_index=False).sum().sort_values(by=\"Medal_Gold\",ascending=False)[:10]"
   ]
  },
  {
   "cell_type": "markdown",
   "id": "0a90daeb",
   "metadata": {},
   "source": [
    "# Şehre Göre Madalya Kazanımı:\n"
   ]
  },
  {
   "cell_type": "code",
   "execution_count": 36,
   "id": "6ece6367",
   "metadata": {},
   "outputs": [
    {
     "data": {
      "text/html": [
       "<div>\n",
       "<style scoped>\n",
       "    .dataframe tbody tr th:only-of-type {\n",
       "        vertical-align: middle;\n",
       "    }\n",
       "\n",
       "    .dataframe tbody tr th {\n",
       "        vertical-align: top;\n",
       "    }\n",
       "\n",
       "    .dataframe thead th {\n",
       "        text-align: right;\n",
       "    }\n",
       "</style>\n",
       "<table border=\"1\" class=\"dataframe\">\n",
       "  <thead>\n",
       "    <tr style=\"text-align: right;\">\n",
       "      <th></th>\n",
       "      <th>City</th>\n",
       "      <th>Medal_Bronze</th>\n",
       "      <th>Medal_Gold</th>\n",
       "      <th>Medal_Silver</th>\n",
       "    </tr>\n",
       "  </thead>\n",
       "  <tbody>\n",
       "    <tr>\n",
       "      <th>17</th>\n",
       "      <td>London</td>\n",
       "      <td>1214.0</td>\n",
       "      <td>1215.0</td>\n",
       "      <td>1195.0</td>\n",
       "    </tr>\n",
       "    <tr>\n",
       "      <th>3</th>\n",
       "      <td>Athina</td>\n",
       "      <td>860.0</td>\n",
       "      <td>883.0</td>\n",
       "      <td>859.0</td>\n",
       "    </tr>\n",
       "    <tr>\n",
       "      <th>18</th>\n",
       "      <td>Los Angeles</td>\n",
       "      <td>706.0</td>\n",
       "      <td>726.0</td>\n",
       "      <td>691.0</td>\n",
       "    </tr>\n",
       "    <tr>\n",
       "      <th>6</th>\n",
       "      <td>Beijing</td>\n",
       "      <td>710.0</td>\n",
       "      <td>671.0</td>\n",
       "      <td>667.0</td>\n",
       "    </tr>\n",
       "    <tr>\n",
       "      <th>27</th>\n",
       "      <td>Rio de Janeiro</td>\n",
       "      <td>703.0</td>\n",
       "      <td>665.0</td>\n",
       "      <td>655.0</td>\n",
       "    </tr>\n",
       "    <tr>\n",
       "      <th>38</th>\n",
       "      <td>Sydney</td>\n",
       "      <td>680.0</td>\n",
       "      <td>663.0</td>\n",
       "      <td>661.0</td>\n",
       "    </tr>\n",
       "    <tr>\n",
       "      <th>4</th>\n",
       "      <td>Atlanta</td>\n",
       "      <td>629.0</td>\n",
       "      <td>608.0</td>\n",
       "      <td>605.0</td>\n",
       "    </tr>\n",
       "    <tr>\n",
       "      <th>5</th>\n",
       "      <td>Barcelona</td>\n",
       "      <td>604.0</td>\n",
       "      <td>559.0</td>\n",
       "      <td>549.0</td>\n",
       "    </tr>\n",
       "    <tr>\n",
       "      <th>33</th>\n",
       "      <td>Seoul</td>\n",
       "      <td>549.0</td>\n",
       "      <td>520.0</td>\n",
       "      <td>513.0</td>\n",
       "    </tr>\n",
       "    <tr>\n",
       "      <th>2</th>\n",
       "      <td>Antwerpen</td>\n",
       "      <td>367.0</td>\n",
       "      <td>493.0</td>\n",
       "      <td>448.0</td>\n",
       "    </tr>\n",
       "  </tbody>\n",
       "</table>\n",
       "</div>"
      ],
      "text/plain": [
       "              City  Medal_Bronze  Medal_Gold  Medal_Silver\n",
       "17          London        1214.0      1215.0        1195.0\n",
       "3           Athina         860.0       883.0         859.0\n",
       "18     Los Angeles         706.0       726.0         691.0\n",
       "6          Beijing         710.0       671.0         667.0\n",
       "27  Rio de Janeiro         703.0       665.0         655.0\n",
       "38          Sydney         680.0       663.0         661.0\n",
       "4          Atlanta         629.0       608.0         605.0\n",
       "5        Barcelona         604.0       559.0         549.0\n",
       "33           Seoul         549.0       520.0         513.0\n",
       "2        Antwerpen         367.0       493.0         448.0"
      ]
     },
     "execution_count": 36,
     "metadata": {},
     "output_type": "execute_result"
    }
   ],
   "source": [
    "data_temp.loc[:,[\"City\",\"Medal_Bronze\",\"Medal_Gold\",\"Medal_Silver\"]].groupby([\"City\"],as_index=False).sum().sort_values(by=\"Medal_Gold\",ascending=False)[:10]"
   ]
  },
  {
   "cell_type": "markdown",
   "id": "b1e511a7",
   "metadata": {},
   "source": [
    "# Cinsiyete Göre Madalya Kazanımı:"
   ]
  },
  {
   "cell_type": "code",
   "execution_count": 37,
   "id": "ba4d6404",
   "metadata": {},
   "outputs": [
    {
     "data": {
      "text/html": [
       "<div>\n",
       "<style scoped>\n",
       "    .dataframe tbody tr th:only-of-type {\n",
       "        vertical-align: middle;\n",
       "    }\n",
       "\n",
       "    .dataframe tbody tr th {\n",
       "        vertical-align: top;\n",
       "    }\n",
       "\n",
       "    .dataframe thead th {\n",
       "        text-align: right;\n",
       "    }\n",
       "</style>\n",
       "<table border=\"1\" class=\"dataframe\">\n",
       "  <thead>\n",
       "    <tr style=\"text-align: right;\">\n",
       "      <th></th>\n",
       "      <th>Gender</th>\n",
       "      <th>Medal_Bronze</th>\n",
       "      <th>Medal_Gold</th>\n",
       "      <th>Medal_Silver</th>\n",
       "    </tr>\n",
       "  </thead>\n",
       "  <tbody>\n",
       "    <tr>\n",
       "      <th>1</th>\n",
       "      <td>M</td>\n",
       "      <td>9524.0</td>\n",
       "      <td>9625.0</td>\n",
       "      <td>9381.0</td>\n",
       "    </tr>\n",
       "    <tr>\n",
       "      <th>0</th>\n",
       "      <td>F</td>\n",
       "      <td>3771.0</td>\n",
       "      <td>3747.0</td>\n",
       "      <td>3735.0</td>\n",
       "    </tr>\n",
       "  </tbody>\n",
       "</table>\n",
       "</div>"
      ],
      "text/plain": [
       "  Gender  Medal_Bronze  Medal_Gold  Medal_Silver\n",
       "1      M        9524.0      9625.0        9381.0\n",
       "0      F        3771.0      3747.0        3735.0"
      ]
     },
     "execution_count": 37,
     "metadata": {},
     "output_type": "execute_result"
    }
   ],
   "source": [
    "data_temp.loc[:,[\"Gender\",\"Medal_Bronze\",\"Medal_Gold\",\"Medal_Silver\"]].groupby([\"Gender\"],as_index=False).sum().sort_values(by=\"Medal_Gold\",ascending=False)"
   ]
  },
  {
   "cell_type": "markdown",
   "id": "481cc43e",
   "metadata": {},
   "source": [
    "# Çok Değişkenli Veri Analizi - Pivot Tablosu"
   ]
  },
  {
   "cell_type": "code",
   "execution_count": 38,
   "id": "803d4868",
   "metadata": {},
   "outputs": [
    {
     "data": {
      "text/html": [
       "<div>\n",
       "<style scoped>\n",
       "    .dataframe tbody tr th:only-of-type {\n",
       "        vertical-align: middle;\n",
       "    }\n",
       "\n",
       "    .dataframe tbody tr th {\n",
       "        vertical-align: top;\n",
       "    }\n",
       "\n",
       "    .dataframe thead tr th {\n",
       "        text-align: left;\n",
       "    }\n",
       "\n",
       "    .dataframe thead tr:last-of-type th {\n",
       "        text-align: right;\n",
       "    }\n",
       "</style>\n",
       "<table border=\"1\" class=\"dataframe\">\n",
       "  <thead>\n",
       "    <tr>\n",
       "      <th></th>\n",
       "      <th colspan=\"6\" halign=\"left\">Age</th>\n",
       "      <th colspan=\"2\" halign=\"left\">Height</th>\n",
       "      <th colspan=\"2\" halign=\"left\">Weight</th>\n",
       "    </tr>\n",
       "    <tr>\n",
       "      <th></th>\n",
       "      <th colspan=\"2\" halign=\"left\">max</th>\n",
       "      <th colspan=\"2\" halign=\"left\">min</th>\n",
       "      <th colspan=\"2\" halign=\"left\">std</th>\n",
       "      <th colspan=\"2\" halign=\"left\">mean</th>\n",
       "      <th colspan=\"2\" halign=\"left\">mean</th>\n",
       "    </tr>\n",
       "    <tr>\n",
       "      <th>Gender</th>\n",
       "      <th>F</th>\n",
       "      <th>M</th>\n",
       "      <th>F</th>\n",
       "      <th>M</th>\n",
       "      <th>F</th>\n",
       "      <th>M</th>\n",
       "      <th>F</th>\n",
       "      <th>M</th>\n",
       "      <th>F</th>\n",
       "      <th>M</th>\n",
       "    </tr>\n",
       "    <tr>\n",
       "      <th>Medal</th>\n",
       "      <th></th>\n",
       "      <th></th>\n",
       "      <th></th>\n",
       "      <th></th>\n",
       "      <th></th>\n",
       "      <th></th>\n",
       "      <th></th>\n",
       "      <th></th>\n",
       "      <th></th>\n",
       "      <th></th>\n",
       "    </tr>\n",
       "  </thead>\n",
       "  <tbody>\n",
       "    <tr>\n",
       "      <th>Bronze</th>\n",
       "      <td>69.0</td>\n",
       "      <td>72.0</td>\n",
       "      <td>12.0</td>\n",
       "      <td>10.0</td>\n",
       "      <td>5.329416</td>\n",
       "      <td>5.869104</td>\n",
       "      <td>170.003227</td>\n",
       "      <td>180.045806</td>\n",
       "      <td>62.757125</td>\n",
       "      <td>77.841504</td>\n",
       "    </tr>\n",
       "    <tr>\n",
       "      <th>Gold</th>\n",
       "      <td>63.0</td>\n",
       "      <td>64.0</td>\n",
       "      <td>13.0</td>\n",
       "      <td>13.0</td>\n",
       "      <td>5.219710</td>\n",
       "      <td>5.987016</td>\n",
       "      <td>170.448727</td>\n",
       "      <td>180.318906</td>\n",
       "      <td>63.199349</td>\n",
       "      <td>78.186505</td>\n",
       "    </tr>\n",
       "    <tr>\n",
       "      <th>Silver</th>\n",
       "      <td>55.0</td>\n",
       "      <td>73.0</td>\n",
       "      <td>11.0</td>\n",
       "      <td>13.0</td>\n",
       "      <td>5.253290</td>\n",
       "      <td>6.096383</td>\n",
       "      <td>170.233783</td>\n",
       "      <td>180.053626</td>\n",
       "      <td>62.866892</td>\n",
       "      <td>77.960887</td>\n",
       "    </tr>\n",
       "  </tbody>\n",
       "</table>\n",
       "</div>"
      ],
      "text/plain": [
       "         Age                                            Height              \\\n",
       "         max         min             std                  mean               \n",
       "Gender     F     M     F     M         F         M           F           M   \n",
       "Medal                                                                        \n",
       "Bronze  69.0  72.0  12.0  10.0  5.329416  5.869104  170.003227  180.045806   \n",
       "Gold    63.0  64.0  13.0  13.0  5.219710  5.987016  170.448727  180.318906   \n",
       "Silver  55.0  73.0  11.0  13.0  5.253290  6.096383  170.233783  180.053626   \n",
       "\n",
       "           Weight             \n",
       "             mean             \n",
       "Gender          F          M  \n",
       "Medal                         \n",
       "Bronze  62.757125  77.841504  \n",
       "Gold    63.199349  78.186505  \n",
       "Silver  62.866892  77.960887  "
      ]
     },
     "execution_count": 38,
     "metadata": {},
     "output_type": "execute_result"
    }
   ],
   "source": [
    "data_pivot = data.pivot_table(index=\"Medal\",columns=[\"Gender\"],values=[\"Height\",\"Weight\",\"Age\"],aggfunc={\"Height\":np.mean,\"Weight\":np.mean,\"Age\":[min,max,np.std]})\n",
    "# İndex ile hangi özelliğe göre satırda ayrıştıracağını belirtiyoruz.\n",
    "# Columns ile hangi özelliğe göre sütunda ayrıştıracağımızı belirityoruz.\n",
    "# Values ile hangi özelliklerin değerlerini bu satır ve sütuna göre yazacağımızı belirtiyoruz.\n",
    "# Aggfunc ile de her özellik için ne gibi ekstra özellikleri belirtebileceğimizi seçebiliyoruz.\n",
    "data_pivot.head()"
   ]
  },
  {
   "cell_type": "markdown",
   "id": "5fe7b2bc",
   "metadata": {},
   "source": [
    "# Anomali Tespiti"
   ]
  },
  {
   "cell_type": "code",
   "execution_count": 39,
   "id": "b39e88b7",
   "metadata": {},
   "outputs": [],
   "source": [
    "def detect_Anomaly(df , attributes):\n",
    "    outlier_indices = []\n",
    "    \n",
    "    for c in attributes:\n",
    "        #1. Çeyrek:\n",
    "        Q1 = np.percentile(df[c],25) # percentile metodu verinin yüzde kaçlık elemanını istersek onu bize döndürür.\n",
    "        \n",
    "        #3. Çeyrek:\n",
    "        Q3 = np.percentile(df[c],75)\n",
    "        \n",
    "        #IQR = Inter Quartile Range\n",
    "        IQR = Q3 - Q1\n",
    "        \n",
    "        #aykırı değer için ek adım miktarı:\n",
    "        outlier_step = 1.5 * IQR\n",
    "        \n",
    "        #aykırı değeri ve bulunduğu indeksi tespit edelim:\n",
    "        outlier_list = df[(df[c] < (Q1 - outlier_step)) | (df[c] > (Q3 + outlier_step))] # or pandas serilerinde hata verdiğinden | kullandım. \n",
    "        \n",
    "        #tespit edilen indisleri toplayalım:\n",
    "        outlier_indices.extend(outlier_list) # extend elimizdeki listenin sonuna bir başka listeye benzer veri dizisini eklemeyi sağlar.\n",
    "    \n",
    "    #Eşsiz aykırı değerleri bulalım:\n",
    "    outlier_indices = Counter(outlier_indices)\n",
    "    \n",
    "    #Eğer bir örnek v adet sütunda aykırı ise bunu aykırı kabul edelim:\n",
    "    multiple_outliers = list(i for i , v in outlier_indices.items() if v > 1)\n",
    "    \n",
    "    return multiple_outliers"
   ]
  },
  {
   "cell_type": "code",
   "execution_count": 40,
   "id": "7ab9625f",
   "metadata": {},
   "outputs": [
    {
     "ename": "KeyError",
     "evalue": "\"None of [Index(['Name', 'Gender', 'Age', 'Height', 'Weight', 'Team', 'NOC', 'Year',\\n       'Season', 'City', 'Sport', 'Event', 'Medal'],\\n      dtype='object')] are in the [index]\"",
     "output_type": "error",
     "traceback": [
      "\u001b[1;31m---------------------------------------------------------------------------\u001b[0m",
      "\u001b[1;31mKeyError\u001b[0m                                  Traceback (most recent call last)",
      "\u001b[1;32mC:\\Users\\FURKAN~1\\AppData\\Local\\Temp/ipykernel_8512/2329484606.py\u001b[0m in \u001b[0;36m<module>\u001b[1;34m\u001b[0m\n\u001b[1;32m----> 1\u001b[1;33m \u001b[0mdata_anomaly\u001b[0m \u001b[1;33m=\u001b[0m \u001b[0mdata\u001b[0m\u001b[1;33m.\u001b[0m\u001b[0mloc\u001b[0m\u001b[1;33m[\u001b[0m\u001b[0mdetect_Anomaly\u001b[0m\u001b[1;33m(\u001b[0m\u001b[0mdata\u001b[0m\u001b[1;33m,\u001b[0m\u001b[1;33m[\u001b[0m\u001b[1;34m\"Age\"\u001b[0m\u001b[1;33m,\u001b[0m\u001b[1;34m\"Height\"\u001b[0m\u001b[1;33m,\u001b[0m\u001b[1;34m\"Weight\"\u001b[0m\u001b[1;33m]\u001b[0m\u001b[1;33m)\u001b[0m\u001b[1;33m]\u001b[0m\u001b[1;33m\u001b[0m\u001b[1;33m\u001b[0m\u001b[0m\n\u001b[0m\u001b[0;32m      2\u001b[0m \u001b[0mdata_anomaly\u001b[0m\u001b[1;33m.\u001b[0m\u001b[0mSport\u001b[0m\u001b[1;33m.\u001b[0m\u001b[0mvalue_counts\u001b[0m\u001b[1;33m(\u001b[0m\u001b[1;33m)\u001b[0m\u001b[1;33m\u001b[0m\u001b[1;33m\u001b[0m\u001b[0m\n",
      "\u001b[1;32m~\\anaconda3\\lib\\site-packages\\pandas\\core\\indexing.py\u001b[0m in \u001b[0;36m__getitem__\u001b[1;34m(self, key)\u001b[0m\n\u001b[0;32m    929\u001b[0m \u001b[1;33m\u001b[0m\u001b[0m\n\u001b[0;32m    930\u001b[0m             \u001b[0mmaybe_callable\u001b[0m \u001b[1;33m=\u001b[0m \u001b[0mcom\u001b[0m\u001b[1;33m.\u001b[0m\u001b[0mapply_if_callable\u001b[0m\u001b[1;33m(\u001b[0m\u001b[0mkey\u001b[0m\u001b[1;33m,\u001b[0m \u001b[0mself\u001b[0m\u001b[1;33m.\u001b[0m\u001b[0mobj\u001b[0m\u001b[1;33m)\u001b[0m\u001b[1;33m\u001b[0m\u001b[1;33m\u001b[0m\u001b[0m\n\u001b[1;32m--> 931\u001b[1;33m             \u001b[1;32mreturn\u001b[0m \u001b[0mself\u001b[0m\u001b[1;33m.\u001b[0m\u001b[0m_getitem_axis\u001b[0m\u001b[1;33m(\u001b[0m\u001b[0mmaybe_callable\u001b[0m\u001b[1;33m,\u001b[0m \u001b[0maxis\u001b[0m\u001b[1;33m=\u001b[0m\u001b[0maxis\u001b[0m\u001b[1;33m)\u001b[0m\u001b[1;33m\u001b[0m\u001b[1;33m\u001b[0m\u001b[0m\n\u001b[0m\u001b[0;32m    932\u001b[0m \u001b[1;33m\u001b[0m\u001b[0m\n\u001b[0;32m    933\u001b[0m     \u001b[1;32mdef\u001b[0m \u001b[0m_is_scalar_access\u001b[0m\u001b[1;33m(\u001b[0m\u001b[0mself\u001b[0m\u001b[1;33m,\u001b[0m \u001b[0mkey\u001b[0m\u001b[1;33m:\u001b[0m \u001b[0mtuple\u001b[0m\u001b[1;33m)\u001b[0m\u001b[1;33m:\u001b[0m\u001b[1;33m\u001b[0m\u001b[1;33m\u001b[0m\u001b[0m\n",
      "\u001b[1;32m~\\anaconda3\\lib\\site-packages\\pandas\\core\\indexing.py\u001b[0m in \u001b[0;36m_getitem_axis\u001b[1;34m(self, key, axis)\u001b[0m\n\u001b[0;32m   1151\u001b[0m                     \u001b[1;32mraise\u001b[0m \u001b[0mValueError\u001b[0m\u001b[1;33m(\u001b[0m\u001b[1;34m\"Cannot index with multidimensional key\"\u001b[0m\u001b[1;33m)\u001b[0m\u001b[1;33m\u001b[0m\u001b[1;33m\u001b[0m\u001b[0m\n\u001b[0;32m   1152\u001b[0m \u001b[1;33m\u001b[0m\u001b[0m\n\u001b[1;32m-> 1153\u001b[1;33m                 \u001b[1;32mreturn\u001b[0m \u001b[0mself\u001b[0m\u001b[1;33m.\u001b[0m\u001b[0m_getitem_iterable\u001b[0m\u001b[1;33m(\u001b[0m\u001b[0mkey\u001b[0m\u001b[1;33m,\u001b[0m \u001b[0maxis\u001b[0m\u001b[1;33m=\u001b[0m\u001b[0maxis\u001b[0m\u001b[1;33m)\u001b[0m\u001b[1;33m\u001b[0m\u001b[1;33m\u001b[0m\u001b[0m\n\u001b[0m\u001b[0;32m   1154\u001b[0m \u001b[1;33m\u001b[0m\u001b[0m\n\u001b[0;32m   1155\u001b[0m             \u001b[1;31m# nested tuple slicing\u001b[0m\u001b[1;33m\u001b[0m\u001b[1;33m\u001b[0m\u001b[0m\n",
      "\u001b[1;32m~\\anaconda3\\lib\\site-packages\\pandas\\core\\indexing.py\u001b[0m in \u001b[0;36m_getitem_iterable\u001b[1;34m(self, key, axis)\u001b[0m\n\u001b[0;32m   1091\u001b[0m \u001b[1;33m\u001b[0m\u001b[0m\n\u001b[0;32m   1092\u001b[0m         \u001b[1;31m# A collection of keys\u001b[0m\u001b[1;33m\u001b[0m\u001b[1;33m\u001b[0m\u001b[0m\n\u001b[1;32m-> 1093\u001b[1;33m         \u001b[0mkeyarr\u001b[0m\u001b[1;33m,\u001b[0m \u001b[0mindexer\u001b[0m \u001b[1;33m=\u001b[0m \u001b[0mself\u001b[0m\u001b[1;33m.\u001b[0m\u001b[0m_get_listlike_indexer\u001b[0m\u001b[1;33m(\u001b[0m\u001b[0mkey\u001b[0m\u001b[1;33m,\u001b[0m \u001b[0maxis\u001b[0m\u001b[1;33m)\u001b[0m\u001b[1;33m\u001b[0m\u001b[1;33m\u001b[0m\u001b[0m\n\u001b[0m\u001b[0;32m   1094\u001b[0m         return self.obj._reindex_with_indexers(\n\u001b[0;32m   1095\u001b[0m             \u001b[1;33m{\u001b[0m\u001b[0maxis\u001b[0m\u001b[1;33m:\u001b[0m \u001b[1;33m[\u001b[0m\u001b[0mkeyarr\u001b[0m\u001b[1;33m,\u001b[0m \u001b[0mindexer\u001b[0m\u001b[1;33m]\u001b[0m\u001b[1;33m}\u001b[0m\u001b[1;33m,\u001b[0m \u001b[0mcopy\u001b[0m\u001b[1;33m=\u001b[0m\u001b[1;32mTrue\u001b[0m\u001b[1;33m,\u001b[0m \u001b[0mallow_dups\u001b[0m\u001b[1;33m=\u001b[0m\u001b[1;32mTrue\u001b[0m\u001b[1;33m\u001b[0m\u001b[1;33m\u001b[0m\u001b[0m\n",
      "\u001b[1;32m~\\anaconda3\\lib\\site-packages\\pandas\\core\\indexing.py\u001b[0m in \u001b[0;36m_get_listlike_indexer\u001b[1;34m(self, key, axis)\u001b[0m\n\u001b[0;32m   1312\u001b[0m             \u001b[0mkeyarr\u001b[0m\u001b[1;33m,\u001b[0m \u001b[0mindexer\u001b[0m\u001b[1;33m,\u001b[0m \u001b[0mnew_indexer\u001b[0m \u001b[1;33m=\u001b[0m \u001b[0max\u001b[0m\u001b[1;33m.\u001b[0m\u001b[0m_reindex_non_unique\u001b[0m\u001b[1;33m(\u001b[0m\u001b[0mkeyarr\u001b[0m\u001b[1;33m)\u001b[0m\u001b[1;33m\u001b[0m\u001b[1;33m\u001b[0m\u001b[0m\n\u001b[0;32m   1313\u001b[0m \u001b[1;33m\u001b[0m\u001b[0m\n\u001b[1;32m-> 1314\u001b[1;33m         \u001b[0mself\u001b[0m\u001b[1;33m.\u001b[0m\u001b[0m_validate_read_indexer\u001b[0m\u001b[1;33m(\u001b[0m\u001b[0mkeyarr\u001b[0m\u001b[1;33m,\u001b[0m \u001b[0mindexer\u001b[0m\u001b[1;33m,\u001b[0m \u001b[0maxis\u001b[0m\u001b[1;33m)\u001b[0m\u001b[1;33m\u001b[0m\u001b[1;33m\u001b[0m\u001b[0m\n\u001b[0m\u001b[0;32m   1315\u001b[0m \u001b[1;33m\u001b[0m\u001b[0m\n\u001b[0;32m   1316\u001b[0m         if needs_i8_conversion(ax.dtype) or isinstance(\n",
      "\u001b[1;32m~\\anaconda3\\lib\\site-packages\\pandas\\core\\indexing.py\u001b[0m in \u001b[0;36m_validate_read_indexer\u001b[1;34m(self, key, indexer, axis)\u001b[0m\n\u001b[0;32m   1372\u001b[0m                 \u001b[1;32mif\u001b[0m \u001b[0muse_interval_msg\u001b[0m\u001b[1;33m:\u001b[0m\u001b[1;33m\u001b[0m\u001b[1;33m\u001b[0m\u001b[0m\n\u001b[0;32m   1373\u001b[0m                     \u001b[0mkey\u001b[0m \u001b[1;33m=\u001b[0m \u001b[0mlist\u001b[0m\u001b[1;33m(\u001b[0m\u001b[0mkey\u001b[0m\u001b[1;33m)\u001b[0m\u001b[1;33m\u001b[0m\u001b[1;33m\u001b[0m\u001b[0m\n\u001b[1;32m-> 1374\u001b[1;33m                 \u001b[1;32mraise\u001b[0m \u001b[0mKeyError\u001b[0m\u001b[1;33m(\u001b[0m\u001b[1;34mf\"None of [{key}] are in the [{axis_name}]\"\u001b[0m\u001b[1;33m)\u001b[0m\u001b[1;33m\u001b[0m\u001b[1;33m\u001b[0m\u001b[0m\n\u001b[0m\u001b[0;32m   1375\u001b[0m \u001b[1;33m\u001b[0m\u001b[0m\n\u001b[0;32m   1376\u001b[0m             \u001b[0mnot_found\u001b[0m \u001b[1;33m=\u001b[0m \u001b[0mlist\u001b[0m\u001b[1;33m(\u001b[0m\u001b[0mensure_index\u001b[0m\u001b[1;33m(\u001b[0m\u001b[0mkey\u001b[0m\u001b[1;33m)\u001b[0m\u001b[1;33m[\u001b[0m\u001b[0mmissing_mask\u001b[0m\u001b[1;33m.\u001b[0m\u001b[0mnonzero\u001b[0m\u001b[1;33m(\u001b[0m\u001b[1;33m)\u001b[0m\u001b[1;33m[\u001b[0m\u001b[1;36m0\u001b[0m\u001b[1;33m]\u001b[0m\u001b[1;33m]\u001b[0m\u001b[1;33m.\u001b[0m\u001b[0munique\u001b[0m\u001b[1;33m(\u001b[0m\u001b[1;33m)\u001b[0m\u001b[1;33m)\u001b[0m\u001b[1;33m\u001b[0m\u001b[1;33m\u001b[0m\u001b[0m\n",
      "\u001b[1;31mKeyError\u001b[0m: \"None of [Index(['Name', 'Gender', 'Age', 'Height', 'Weight', 'Team', 'NOC', 'Year',\\n       'Season', 'City', 'Sport', 'Event', 'Medal'],\\n      dtype='object')] are in the [index]\""
     ]
    }
   ],
   "source": [
    "data_anomaly = data.loc[detect_Anomaly(data,[\"Age\",\"Height\",\"Weight\"])]\n",
    "data_anomaly.Sport.value_counts()"
   ]
  },
  {
   "cell_type": "markdown",
   "id": "8ac72672",
   "metadata": {},
   "source": [
    "Yukarıdaki hatayı çözmek üzere sonraya bıraktım."
   ]
  },
  {
   "cell_type": "markdown",
   "id": "0ba0bba0",
   "metadata": {},
   "source": [
    "# Zaman Serilerinde Veri Analizi"
   ]
  },
  {
   "cell_type": "markdown",
   "id": "03a3890f",
   "metadata": {},
   "source": [
    "## Yıllara Göre Ortalama Yaş , Boy , Kilo Değişimi"
   ]
  },
  {
   "cell_type": "markdown",
   "id": "9a181383",
   "metadata": {},
   "source": [
    "## Yıllara Göre Madalya Sayıları"
   ]
  },
  {
   "cell_type": "code",
   "execution_count": 41,
   "id": "be3d430a",
   "metadata": {},
   "outputs": [],
   "source": [
    "data_time = data.copy()"
   ]
  },
  {
   "cell_type": "code",
   "execution_count": 42,
   "id": "e5ea8e75",
   "metadata": {},
   "outputs": [],
   "source": [
    "unique_years = data_time.Year.unique() # Olimpiyatların yapıldığı yılları elde ettik"
   ]
  },
  {
   "cell_type": "code",
   "execution_count": 43,
   "id": "a64f835d",
   "metadata": {},
   "outputs": [
    {
     "data": {
      "text/plain": [
       "array([1900, 1920, 2014, 1948, 1952, 1992, 1994, 2002, 2006, 2008, 1988,\n",
       "       1996, 1960, 1912, 1956, 2016, 2012, 2000, 2004, 1980, 1984, 1936,\n",
       "       1906, 1964, 1972, 1924, 1904, 1932, 1928, 1968, 1976, 2010, 1908,\n",
       "       1998, 1896], dtype=int64)"
      ]
     },
     "execution_count": 43,
     "metadata": {},
     "output_type": "execute_result"
    }
   ],
   "source": [
    "unique_years"
   ]
  },
  {
   "cell_type": "code",
   "execution_count": 44,
   "id": "b7e1b00a",
   "metadata": {},
   "outputs": [],
   "source": [
    "sorted_years = np.sort(data_time.Year.unique())"
   ]
  },
  {
   "cell_type": "code",
   "execution_count": 45,
   "id": "d73421d0",
   "metadata": {},
   "outputs": [
    {
     "data": {
      "text/plain": [
       "array([1896, 1900, 1904, 1906, 1908, 1912, 1920, 1924, 1928, 1932, 1936,\n",
       "       1948, 1952, 1956, 1960, 1964, 1968, 1972, 1976, 1980, 1984, 1988,\n",
       "       1992, 1994, 1996, 1998, 2000, 2002, 2004, 2006, 2008, 2010, 2012,\n",
       "       2014, 2016], dtype=int64)"
      ]
     },
     "execution_count": 45,
     "metadata": {},
     "output_type": "execute_result"
    }
   ],
   "source": [
    "sorted_years"
   ]
  },
  {
   "cell_type": "code",
   "execution_count": 46,
   "id": "9e3688e3",
   "metadata": {},
   "outputs": [],
   "source": [
    "# Veri içerisinde bulunan yıl değerlerini datetime veri tipine dönüştürelim"
   ]
  },
  {
   "cell_type": "code",
   "execution_count": 47,
   "id": "407deb61",
   "metadata": {},
   "outputs": [
    {
     "name": "stdout",
     "output_type": "stream",
     "text": [
      "<class 'pandas.core.series.Series'>\n"
     ]
    },
    {
     "data": {
      "text/plain": [
       "3    1900-01-01\n",
       "37   1920-01-01\n",
       "38   1920-01-01\n",
       "40   2014-01-01\n",
       "41   1948-01-01\n",
       "Name: Year, dtype: datetime64[ns]"
      ]
     },
     "execution_count": 47,
     "metadata": {},
     "output_type": "execute_result"
    }
   ],
   "source": [
    "date_time_object = pd.to_datetime(data_time[\"Year\"],format=\"%Y\")\n",
    "print(type(date_time_object))\n",
    "date_time_object.head() # Yıl sütununu datetime cinsinden veriye dönüştürdük."
   ]
  },
  {
   "cell_type": "code",
   "execution_count": 48,
   "id": "419b4a35",
   "metadata": {},
   "outputs": [],
   "source": [
    "data_time[\"Date_time\"] = date_time_object"
   ]
  },
  {
   "cell_type": "code",
   "execution_count": 49,
   "id": "412df9d4",
   "metadata": {},
   "outputs": [
    {
     "data": {
      "text/html": [
       "<div>\n",
       "<style scoped>\n",
       "    .dataframe tbody tr th:only-of-type {\n",
       "        vertical-align: middle;\n",
       "    }\n",
       "\n",
       "    .dataframe tbody tr th {\n",
       "        vertical-align: top;\n",
       "    }\n",
       "\n",
       "    .dataframe thead th {\n",
       "        text-align: right;\n",
       "    }\n",
       "</style>\n",
       "<table border=\"1\" class=\"dataframe\">\n",
       "  <thead>\n",
       "    <tr style=\"text-align: right;\">\n",
       "      <th></th>\n",
       "      <th>Name</th>\n",
       "      <th>Gender</th>\n",
       "      <th>Age</th>\n",
       "      <th>Height</th>\n",
       "      <th>Weight</th>\n",
       "      <th>Team</th>\n",
       "      <th>NOC</th>\n",
       "      <th>Year</th>\n",
       "      <th>Season</th>\n",
       "      <th>City</th>\n",
       "      <th>Sport</th>\n",
       "      <th>Event</th>\n",
       "      <th>Medal</th>\n",
       "      <th>Date_time</th>\n",
       "    </tr>\n",
       "  </thead>\n",
       "  <tbody>\n",
       "    <tr>\n",
       "      <th>3</th>\n",
       "      <td>Edgar Lindenau Aabye</td>\n",
       "      <td>M</td>\n",
       "      <td>34.0</td>\n",
       "      <td>182.48</td>\n",
       "      <td>95.62</td>\n",
       "      <td>Denmark/Sweden</td>\n",
       "      <td>DEN</td>\n",
       "      <td>1900</td>\n",
       "      <td>Summer</td>\n",
       "      <td>Paris</td>\n",
       "      <td>Tug-Of-War</td>\n",
       "      <td>Tug-Of-War Men's Tug-Of-War</td>\n",
       "      <td>Gold</td>\n",
       "      <td>1900-01-01</td>\n",
       "    </tr>\n",
       "    <tr>\n",
       "      <th>37</th>\n",
       "      <td>Arvo Ossian Aaltonen</td>\n",
       "      <td>M</td>\n",
       "      <td>30.0</td>\n",
       "      <td>182.01</td>\n",
       "      <td>76.69</td>\n",
       "      <td>Finland</td>\n",
       "      <td>FIN</td>\n",
       "      <td>1920</td>\n",
       "      <td>Summer</td>\n",
       "      <td>Antwerpen</td>\n",
       "      <td>Swimming</td>\n",
       "      <td>Swimming Men's 200 metres Breaststroke</td>\n",
       "      <td>Bronze</td>\n",
       "      <td>1920-01-01</td>\n",
       "    </tr>\n",
       "    <tr>\n",
       "      <th>38</th>\n",
       "      <td>Arvo Ossian Aaltonen</td>\n",
       "      <td>M</td>\n",
       "      <td>30.0</td>\n",
       "      <td>177.00</td>\n",
       "      <td>75.00</td>\n",
       "      <td>Finland</td>\n",
       "      <td>FIN</td>\n",
       "      <td>1920</td>\n",
       "      <td>Summer</td>\n",
       "      <td>Antwerpen</td>\n",
       "      <td>Swimming</td>\n",
       "      <td>Swimming Men's 400 metres Breaststroke</td>\n",
       "      <td>Bronze</td>\n",
       "      <td>1920-01-01</td>\n",
       "    </tr>\n",
       "    <tr>\n",
       "      <th>40</th>\n",
       "      <td>Juhamatti Tapio Aaltonen</td>\n",
       "      <td>M</td>\n",
       "      <td>28.0</td>\n",
       "      <td>184.00</td>\n",
       "      <td>85.00</td>\n",
       "      <td>Finland</td>\n",
       "      <td>FIN</td>\n",
       "      <td>2014</td>\n",
       "      <td>Winter</td>\n",
       "      <td>Sochi</td>\n",
       "      <td>Ice Hockey</td>\n",
       "      <td>Ice Hockey Men's Ice Hockey</td>\n",
       "      <td>Bronze</td>\n",
       "      <td>2014-01-01</td>\n",
       "    </tr>\n",
       "    <tr>\n",
       "      <th>41</th>\n",
       "      <td>Paavo Johannes Aaltonen</td>\n",
       "      <td>M</td>\n",
       "      <td>28.0</td>\n",
       "      <td>175.00</td>\n",
       "      <td>64.00</td>\n",
       "      <td>Finland</td>\n",
       "      <td>FIN</td>\n",
       "      <td>1948</td>\n",
       "      <td>Summer</td>\n",
       "      <td>London</td>\n",
       "      <td>Gymnastics</td>\n",
       "      <td>Gymnastics Men's Individual All-Around</td>\n",
       "      <td>Bronze</td>\n",
       "      <td>1948-01-01</td>\n",
       "    </tr>\n",
       "  </tbody>\n",
       "</table>\n",
       "</div>"
      ],
      "text/plain": [
       "                        Name Gender   Age  Height  Weight            Team  \\\n",
       "3       Edgar Lindenau Aabye      M  34.0  182.48   95.62  Denmark/Sweden   \n",
       "37      Arvo Ossian Aaltonen      M  30.0  182.01   76.69         Finland   \n",
       "38      Arvo Ossian Aaltonen      M  30.0  177.00   75.00         Finland   \n",
       "40  Juhamatti Tapio Aaltonen      M  28.0  184.00   85.00         Finland   \n",
       "41   Paavo Johannes Aaltonen      M  28.0  175.00   64.00         Finland   \n",
       "\n",
       "    NOC  Year  Season       City       Sport  \\\n",
       "3   DEN  1900  Summer      Paris  Tug-Of-War   \n",
       "37  FIN  1920  Summer  Antwerpen    Swimming   \n",
       "38  FIN  1920  Summer  Antwerpen    Swimming   \n",
       "40  FIN  2014  Winter      Sochi  Ice Hockey   \n",
       "41  FIN  1948  Summer     London  Gymnastics   \n",
       "\n",
       "                                     Event   Medal  Date_time  \n",
       "3              Tug-Of-War Men's Tug-Of-War    Gold 1900-01-01  \n",
       "37  Swimming Men's 200 metres Breaststroke  Bronze 1920-01-01  \n",
       "38  Swimming Men's 400 metres Breaststroke  Bronze 1920-01-01  \n",
       "40             Ice Hockey Men's Ice Hockey  Bronze 2014-01-01  \n",
       "41  Gymnastics Men's Individual All-Around  Bronze 1948-01-01  "
      ]
     },
     "execution_count": 49,
     "metadata": {},
     "output_type": "execute_result"
    }
   ],
   "source": [
    "data_time.head()"
   ]
  },
  {
   "cell_type": "code",
   "execution_count": 50,
   "id": "4720e986",
   "metadata": {},
   "outputs": [],
   "source": [
    "# Veri_zaman değişekinin ana indexini datetime tipinde olan Date_time değerine güncelleyelim\n",
    "data_time = data_time.set_index(\"Date_time\")\n",
    "data_time.drop(\"Year\",axis=\"columns\",inplace=True) # Date_time zaten year sütununu kapsadığı için year ı kaldırıyoruz."
   ]
  },
  {
   "cell_type": "code",
   "execution_count": 51,
   "id": "f0c32b82",
   "metadata": {},
   "outputs": [
    {
     "data": {
      "text/html": [
       "<div>\n",
       "<style scoped>\n",
       "    .dataframe tbody tr th:only-of-type {\n",
       "        vertical-align: middle;\n",
       "    }\n",
       "\n",
       "    .dataframe tbody tr th {\n",
       "        vertical-align: top;\n",
       "    }\n",
       "\n",
       "    .dataframe thead th {\n",
       "        text-align: right;\n",
       "    }\n",
       "</style>\n",
       "<table border=\"1\" class=\"dataframe\">\n",
       "  <thead>\n",
       "    <tr style=\"text-align: right;\">\n",
       "      <th></th>\n",
       "      <th>Name</th>\n",
       "      <th>Gender</th>\n",
       "      <th>Age</th>\n",
       "      <th>Height</th>\n",
       "      <th>Weight</th>\n",
       "      <th>Team</th>\n",
       "      <th>NOC</th>\n",
       "      <th>Season</th>\n",
       "      <th>City</th>\n",
       "      <th>Sport</th>\n",
       "      <th>Event</th>\n",
       "      <th>Medal</th>\n",
       "    </tr>\n",
       "    <tr>\n",
       "      <th>Date_time</th>\n",
       "      <th></th>\n",
       "      <th></th>\n",
       "      <th></th>\n",
       "      <th></th>\n",
       "      <th></th>\n",
       "      <th></th>\n",
       "      <th></th>\n",
       "      <th></th>\n",
       "      <th></th>\n",
       "      <th></th>\n",
       "      <th></th>\n",
       "      <th></th>\n",
       "    </tr>\n",
       "  </thead>\n",
       "  <tbody>\n",
       "    <tr>\n",
       "      <th>1900-01-01</th>\n",
       "      <td>Edgar Lindenau Aabye</td>\n",
       "      <td>M</td>\n",
       "      <td>34.0</td>\n",
       "      <td>182.48</td>\n",
       "      <td>95.62</td>\n",
       "      <td>Denmark/Sweden</td>\n",
       "      <td>DEN</td>\n",
       "      <td>Summer</td>\n",
       "      <td>Paris</td>\n",
       "      <td>Tug-Of-War</td>\n",
       "      <td>Tug-Of-War Men's Tug-Of-War</td>\n",
       "      <td>Gold</td>\n",
       "    </tr>\n",
       "    <tr>\n",
       "      <th>1920-01-01</th>\n",
       "      <td>Arvo Ossian Aaltonen</td>\n",
       "      <td>M</td>\n",
       "      <td>30.0</td>\n",
       "      <td>182.01</td>\n",
       "      <td>76.69</td>\n",
       "      <td>Finland</td>\n",
       "      <td>FIN</td>\n",
       "      <td>Summer</td>\n",
       "      <td>Antwerpen</td>\n",
       "      <td>Swimming</td>\n",
       "      <td>Swimming Men's 200 metres Breaststroke</td>\n",
       "      <td>Bronze</td>\n",
       "    </tr>\n",
       "    <tr>\n",
       "      <th>1920-01-01</th>\n",
       "      <td>Arvo Ossian Aaltonen</td>\n",
       "      <td>M</td>\n",
       "      <td>30.0</td>\n",
       "      <td>177.00</td>\n",
       "      <td>75.00</td>\n",
       "      <td>Finland</td>\n",
       "      <td>FIN</td>\n",
       "      <td>Summer</td>\n",
       "      <td>Antwerpen</td>\n",
       "      <td>Swimming</td>\n",
       "      <td>Swimming Men's 400 metres Breaststroke</td>\n",
       "      <td>Bronze</td>\n",
       "    </tr>\n",
       "    <tr>\n",
       "      <th>2014-01-01</th>\n",
       "      <td>Juhamatti Tapio Aaltonen</td>\n",
       "      <td>M</td>\n",
       "      <td>28.0</td>\n",
       "      <td>184.00</td>\n",
       "      <td>85.00</td>\n",
       "      <td>Finland</td>\n",
       "      <td>FIN</td>\n",
       "      <td>Winter</td>\n",
       "      <td>Sochi</td>\n",
       "      <td>Ice Hockey</td>\n",
       "      <td>Ice Hockey Men's Ice Hockey</td>\n",
       "      <td>Bronze</td>\n",
       "    </tr>\n",
       "    <tr>\n",
       "      <th>1948-01-01</th>\n",
       "      <td>Paavo Johannes Aaltonen</td>\n",
       "      <td>M</td>\n",
       "      <td>28.0</td>\n",
       "      <td>175.00</td>\n",
       "      <td>64.00</td>\n",
       "      <td>Finland</td>\n",
       "      <td>FIN</td>\n",
       "      <td>Summer</td>\n",
       "      <td>London</td>\n",
       "      <td>Gymnastics</td>\n",
       "      <td>Gymnastics Men's Individual All-Around</td>\n",
       "      <td>Bronze</td>\n",
       "    </tr>\n",
       "  </tbody>\n",
       "</table>\n",
       "</div>"
      ],
      "text/plain": [
       "                                Name Gender   Age  Height  Weight  \\\n",
       "Date_time                                                           \n",
       "1900-01-01      Edgar Lindenau Aabye      M  34.0  182.48   95.62   \n",
       "1920-01-01      Arvo Ossian Aaltonen      M  30.0  182.01   76.69   \n",
       "1920-01-01      Arvo Ossian Aaltonen      M  30.0  177.00   75.00   \n",
       "2014-01-01  Juhamatti Tapio Aaltonen      M  28.0  184.00   85.00   \n",
       "1948-01-01   Paavo Johannes Aaltonen      M  28.0  175.00   64.00   \n",
       "\n",
       "                      Team  NOC  Season       City       Sport  \\\n",
       "Date_time                                                        \n",
       "1900-01-01  Denmark/Sweden  DEN  Summer      Paris  Tug-Of-War   \n",
       "1920-01-01         Finland  FIN  Summer  Antwerpen    Swimming   \n",
       "1920-01-01         Finland  FIN  Summer  Antwerpen    Swimming   \n",
       "2014-01-01         Finland  FIN  Winter      Sochi  Ice Hockey   \n",
       "1948-01-01         Finland  FIN  Summer     London  Gymnastics   \n",
       "\n",
       "                                             Event   Medal  \n",
       "Date_time                                                   \n",
       "1900-01-01             Tug-Of-War Men's Tug-Of-War    Gold  \n",
       "1920-01-01  Swimming Men's 200 metres Breaststroke  Bronze  \n",
       "1920-01-01  Swimming Men's 400 metres Breaststroke  Bronze  \n",
       "2014-01-01             Ice Hockey Men's Ice Hockey  Bronze  \n",
       "1948-01-01  Gymnastics Men's Individual All-Around  Bronze  "
      ]
     },
     "execution_count": 51,
     "metadata": {},
     "output_type": "execute_result"
    }
   ],
   "source": [
    "data_time.head()"
   ]
  },
  {
   "cell_type": "markdown",
   "id": "9f7ea050",
   "metadata": {},
   "source": [
    "## Yıllara Göre Ortalama Yaş , Boy , Kilo Değişimi"
   ]
  },
  {
   "cell_type": "code",
   "execution_count": 52,
   "id": "cd62f8e9",
   "metadata": {},
   "outputs": [
    {
     "data": {
      "text/html": [
       "<div>\n",
       "<style scoped>\n",
       "    .dataframe tbody tr th:only-of-type {\n",
       "        vertical-align: middle;\n",
       "    }\n",
       "\n",
       "    .dataframe tbody tr th {\n",
       "        vertical-align: top;\n",
       "    }\n",
       "\n",
       "    .dataframe thead th {\n",
       "        text-align: right;\n",
       "    }\n",
       "</style>\n",
       "<table border=\"1\" class=\"dataframe\">\n",
       "  <thead>\n",
       "    <tr style=\"text-align: right;\">\n",
       "      <th></th>\n",
       "      <th>Age</th>\n",
       "      <th>Height</th>\n",
       "      <th>Weight</th>\n",
       "    </tr>\n",
       "    <tr>\n",
       "      <th>Date_time</th>\n",
       "      <th></th>\n",
       "      <th></th>\n",
       "      <th></th>\n",
       "    </tr>\n",
       "  </thead>\n",
       "  <tbody>\n",
       "    <tr>\n",
       "      <th>1896-12-31</th>\n",
       "      <td>24.034965</td>\n",
       "      <td>174.280350</td>\n",
       "      <td>72.734056</td>\n",
       "    </tr>\n",
       "    <tr>\n",
       "      <th>1898-12-31</th>\n",
       "      <td>NaN</td>\n",
       "      <td>NaN</td>\n",
       "      <td>NaN</td>\n",
       "    </tr>\n",
       "    <tr>\n",
       "      <th>1900-12-31</th>\n",
       "      <td>27.885762</td>\n",
       "      <td>177.882301</td>\n",
       "      <td>74.979950</td>\n",
       "    </tr>\n",
       "    <tr>\n",
       "      <th>1902-12-31</th>\n",
       "      <td>NaN</td>\n",
       "      <td>NaN</td>\n",
       "      <td>NaN</td>\n",
       "    </tr>\n",
       "    <tr>\n",
       "      <th>1904-12-31</th>\n",
       "      <td>26.421811</td>\n",
       "      <td>177.241091</td>\n",
       "      <td>74.330823</td>\n",
       "    </tr>\n",
       "  </tbody>\n",
       "</table>\n",
       "</div>"
      ],
      "text/plain": [
       "                  Age      Height     Weight\n",
       "Date_time                                   \n",
       "1896-12-31  24.034965  174.280350  72.734056\n",
       "1898-12-31        NaN         NaN        NaN\n",
       "1900-12-31  27.885762  177.882301  74.979950\n",
       "1902-12-31        NaN         NaN        NaN\n",
       "1904-12-31  26.421811  177.241091  74.330823"
      ]
     },
     "execution_count": 52,
     "metadata": {},
     "output_type": "execute_result"
    }
   ],
   "source": [
    "periodic_data = data_time.resample(\"2A\").mean() # 2 yıllık periyotlarla sayısal değişkenlerin ortalama değerlerini gösteren bir tablo elde ettik.\n",
    "periodic_data.head()"
   ]
  },
  {
   "cell_type": "code",
   "execution_count": 53,
   "id": "feea6738",
   "metadata": {},
   "outputs": [],
   "source": [
    "# Kayıp verileri çıkaralım:\n",
    "periodic_data.dropna(axis=0,inplace=True) # satırdan silmek istediğimiz için axis = 0 verdik."
   ]
  },
  {
   "cell_type": "code",
   "execution_count": 54,
   "id": "7aa6224a",
   "metadata": {},
   "outputs": [
    {
     "data": {
      "text/html": [
       "<div>\n",
       "<style scoped>\n",
       "    .dataframe tbody tr th:only-of-type {\n",
       "        vertical-align: middle;\n",
       "    }\n",
       "\n",
       "    .dataframe tbody tr th {\n",
       "        vertical-align: top;\n",
       "    }\n",
       "\n",
       "    .dataframe thead th {\n",
       "        text-align: right;\n",
       "    }\n",
       "</style>\n",
       "<table border=\"1\" class=\"dataframe\">\n",
       "  <thead>\n",
       "    <tr style=\"text-align: right;\">\n",
       "      <th></th>\n",
       "      <th>Age</th>\n",
       "      <th>Height</th>\n",
       "      <th>Weight</th>\n",
       "    </tr>\n",
       "    <tr>\n",
       "      <th>Date_time</th>\n",
       "      <th></th>\n",
       "      <th></th>\n",
       "      <th></th>\n",
       "    </tr>\n",
       "  </thead>\n",
       "  <tbody>\n",
       "    <tr>\n",
       "      <th>1896-12-31</th>\n",
       "      <td>24.034965</td>\n",
       "      <td>174.280350</td>\n",
       "      <td>72.734056</td>\n",
       "    </tr>\n",
       "    <tr>\n",
       "      <th>1900-12-31</th>\n",
       "      <td>27.885762</td>\n",
       "      <td>177.882301</td>\n",
       "      <td>74.979950</td>\n",
       "    </tr>\n",
       "    <tr>\n",
       "      <th>1904-12-31</th>\n",
       "      <td>26.421811</td>\n",
       "      <td>177.241091</td>\n",
       "      <td>74.330823</td>\n",
       "    </tr>\n",
       "    <tr>\n",
       "      <th>1906-12-31</th>\n",
       "      <td>26.624454</td>\n",
       "      <td>176.347576</td>\n",
       "      <td>74.072183</td>\n",
       "    </tr>\n",
       "    <tr>\n",
       "      <th>1908-12-31</th>\n",
       "      <td>27.601685</td>\n",
       "      <td>176.662419</td>\n",
       "      <td>73.721107</td>\n",
       "    </tr>\n",
       "  </tbody>\n",
       "</table>\n",
       "</div>"
      ],
      "text/plain": [
       "                  Age      Height     Weight\n",
       "Date_time                                   \n",
       "1896-12-31  24.034965  174.280350  72.734056\n",
       "1900-12-31  27.885762  177.882301  74.979950\n",
       "1904-12-31  26.421811  177.241091  74.330823\n",
       "1906-12-31  26.624454  176.347576  74.072183\n",
       "1908-12-31  27.601685  176.662419  73.721107"
      ]
     },
     "execution_count": 54,
     "metadata": {},
     "output_type": "execute_result"
    }
   ],
   "source": [
    "periodic_data.head() # Olimpiyatların yapılmadaığı 2 yıllık periyotları çıkarmış olduk."
   ]
  },
  {
   "cell_type": "code",
   "execution_count": 55,
   "id": "2ad9d320",
   "metadata": {},
   "outputs": [
    {
     "data": {
      "text/plain": [
       "<Figure size 432x288 with 0 Axes>"
      ]
     },
     "metadata": {},
     "output_type": "display_data"
    },
    {
     "data": {
      "image/png": "[encoded data removed]",
      "text/plain": [
       "<Figure size 432x288 with 1 Axes>"
      ]
     },
     "metadata": {
      "needs_background": "light"
     },
     "output_type": "display_data"
    }
   ],
   "source": [
    "plt.figure()\n",
    "periodic_data.plot()\n",
    "plt.title(\"The Change of Age , Height , Weight by Year\")\n",
    "plt.xlabel(\"Year\")\n",
    "plt.grid(True) # Grafik üzerine kılavuz çizgisi çizdirmemizi sağlıyor.\n",
    "plt.show()"
   ]
  },
  {
   "cell_type": "code",
   "execution_count": 56,
   "id": "a3e22ad0",
   "metadata": {},
   "outputs": [],
   "source": [
    "# Görüldüğü üzere yıla bağlı olarak kilo yaş ve boy değerlerinde kaydadeğer bir değişim yoktur."
   ]
  },
  {
   "cell_type": "markdown",
   "id": "23b2b28d",
   "metadata": {},
   "source": [
    "# Yıllara Göre Madalya Sayıları"
   ]
  },
  {
   "cell_type": "code",
   "execution_count": 57,
   "id": "40ba04c6",
   "metadata": {},
   "outputs": [
    {
     "data": {
      "text/html": [
       "<div>\n",
       "<style scoped>\n",
       "    .dataframe tbody tr th:only-of-type {\n",
       "        vertical-align: middle;\n",
       "    }\n",
       "\n",
       "    .dataframe tbody tr th {\n",
       "        vertical-align: top;\n",
       "    }\n",
       "\n",
       "    .dataframe thead th {\n",
       "        text-align: right;\n",
       "    }\n",
       "</style>\n",
       "<table border=\"1\" class=\"dataframe\">\n",
       "  <thead>\n",
       "    <tr style=\"text-align: right;\">\n",
       "      <th></th>\n",
       "      <th>Name</th>\n",
       "      <th>Gender</th>\n",
       "      <th>Age</th>\n",
       "      <th>Height</th>\n",
       "      <th>Weight</th>\n",
       "      <th>Team</th>\n",
       "      <th>NOC</th>\n",
       "      <th>Season</th>\n",
       "      <th>City</th>\n",
       "      <th>Sport</th>\n",
       "      <th>Event</th>\n",
       "      <th>Medal_Bronze</th>\n",
       "      <th>Medal_Gold</th>\n",
       "      <th>Medal_Silver</th>\n",
       "    </tr>\n",
       "    <tr>\n",
       "      <th>Date_time</th>\n",
       "      <th></th>\n",
       "      <th></th>\n",
       "      <th></th>\n",
       "      <th></th>\n",
       "      <th></th>\n",
       "      <th></th>\n",
       "      <th></th>\n",
       "      <th></th>\n",
       "      <th></th>\n",
       "      <th></th>\n",
       "      <th></th>\n",
       "      <th></th>\n",
       "      <th></th>\n",
       "      <th></th>\n",
       "    </tr>\n",
       "  </thead>\n",
       "  <tbody>\n",
       "    <tr>\n",
       "      <th>1900-01-01</th>\n",
       "      <td>Edgar Lindenau Aabye</td>\n",
       "      <td>M</td>\n",
       "      <td>34.0</td>\n",
       "      <td>182.48</td>\n",
       "      <td>95.62</td>\n",
       "      <td>Denmark/Sweden</td>\n",
       "      <td>DEN</td>\n",
       "      <td>Summer</td>\n",
       "      <td>Paris</td>\n",
       "      <td>Tug-Of-War</td>\n",
       "      <td>Tug-Of-War Men's Tug-Of-War</td>\n",
       "      <td>0</td>\n",
       "      <td>1</td>\n",
       "      <td>0</td>\n",
       "    </tr>\n",
       "    <tr>\n",
       "      <th>1920-01-01</th>\n",
       "      <td>Arvo Ossian Aaltonen</td>\n",
       "      <td>M</td>\n",
       "      <td>30.0</td>\n",
       "      <td>182.01</td>\n",
       "      <td>76.69</td>\n",
       "      <td>Finland</td>\n",
       "      <td>FIN</td>\n",
       "      <td>Summer</td>\n",
       "      <td>Antwerpen</td>\n",
       "      <td>Swimming</td>\n",
       "      <td>Swimming Men's 200 metres Breaststroke</td>\n",
       "      <td>1</td>\n",
       "      <td>0</td>\n",
       "      <td>0</td>\n",
       "    </tr>\n",
       "    <tr>\n",
       "      <th>1920-01-01</th>\n",
       "      <td>Arvo Ossian Aaltonen</td>\n",
       "      <td>M</td>\n",
       "      <td>30.0</td>\n",
       "      <td>177.00</td>\n",
       "      <td>75.00</td>\n",
       "      <td>Finland</td>\n",
       "      <td>FIN</td>\n",
       "      <td>Summer</td>\n",
       "      <td>Antwerpen</td>\n",
       "      <td>Swimming</td>\n",
       "      <td>Swimming Men's 400 metres Breaststroke</td>\n",
       "      <td>1</td>\n",
       "      <td>0</td>\n",
       "      <td>0</td>\n",
       "    </tr>\n",
       "  </tbody>\n",
       "</table>\n",
       "</div>"
      ],
      "text/plain": [
       "                            Name Gender   Age  Height  Weight            Team  \\\n",
       "Date_time                                                                       \n",
       "1900-01-01  Edgar Lindenau Aabye      M  34.0  182.48   95.62  Denmark/Sweden   \n",
       "1920-01-01  Arvo Ossian Aaltonen      M  30.0  182.01   76.69         Finland   \n",
       "1920-01-01  Arvo Ossian Aaltonen      M  30.0  177.00   75.00         Finland   \n",
       "\n",
       "            NOC  Season       City       Sport  \\\n",
       "Date_time                                        \n",
       "1900-01-01  DEN  Summer      Paris  Tug-Of-War   \n",
       "1920-01-01  FIN  Summer  Antwerpen    Swimming   \n",
       "1920-01-01  FIN  Summer  Antwerpen    Swimming   \n",
       "\n",
       "                                             Event  Medal_Bronze  Medal_Gold  \\\n",
       "Date_time                                                                      \n",
       "1900-01-01             Tug-Of-War Men's Tug-Of-War             0           1   \n",
       "1920-01-01  Swimming Men's 200 metres Breaststroke             1           0   \n",
       "1920-01-01  Swimming Men's 400 metres Breaststroke             1           0   \n",
       "\n",
       "            Medal_Silver  \n",
       "Date_time                 \n",
       "1900-01-01             0  \n",
       "1920-01-01             0  \n",
       "1920-01-01             0  "
      ]
     },
     "execution_count": 57,
     "metadata": {},
     "output_type": "execute_result"
    }
   ],
   "source": [
    "data_time = pd.get_dummies(data_time , columns=[\"Medal\"])\n",
    "data_time.head(3)"
   ]
  },
  {
   "cell_type": "code",
   "execution_count": 58,
   "id": "fe5b0f5b",
   "metadata": {},
   "outputs": [],
   "source": [
    "periodic_data = data_time.resample(\"2A\").sum()"
   ]
  },
  {
   "cell_type": "code",
   "execution_count": 59,
   "id": "005484e3",
   "metadata": {},
   "outputs": [
    {
     "data": {
      "text/html": [
       "<div>\n",
       "<style scoped>\n",
       "    .dataframe tbody tr th:only-of-type {\n",
       "        vertical-align: middle;\n",
       "    }\n",
       "\n",
       "    .dataframe tbody tr th {\n",
       "        vertical-align: top;\n",
       "    }\n",
       "\n",
       "    .dataframe thead th {\n",
       "        text-align: right;\n",
       "    }\n",
       "</style>\n",
       "<table border=\"1\" class=\"dataframe\">\n",
       "  <thead>\n",
       "    <tr style=\"text-align: right;\">\n",
       "      <th></th>\n",
       "      <th>Age</th>\n",
       "      <th>Height</th>\n",
       "      <th>Weight</th>\n",
       "      <th>Medal_Bronze</th>\n",
       "      <th>Medal_Gold</th>\n",
       "      <th>Medal_Silver</th>\n",
       "    </tr>\n",
       "    <tr>\n",
       "      <th>Date_time</th>\n",
       "      <th></th>\n",
       "      <th></th>\n",
       "      <th></th>\n",
       "      <th></th>\n",
       "      <th></th>\n",
       "      <th></th>\n",
       "    </tr>\n",
       "  </thead>\n",
       "  <tbody>\n",
       "    <tr>\n",
       "      <th>1896-12-31</th>\n",
       "      <td>3437.0</td>\n",
       "      <td>24922.09</td>\n",
       "      <td>10400.97</td>\n",
       "      <td>38.0</td>\n",
       "      <td>62.0</td>\n",
       "      <td>43.0</td>\n",
       "    </tr>\n",
       "    <tr>\n",
       "      <th>1898-12-31</th>\n",
       "      <td>0.0</td>\n",
       "      <td>0.00</td>\n",
       "      <td>0.00</td>\n",
       "      <td>0.0</td>\n",
       "      <td>0.0</td>\n",
       "      <td>0.0</td>\n",
       "    </tr>\n",
       "    <tr>\n",
       "      <th>1900-12-31</th>\n",
       "      <td>16843.0</td>\n",
       "      <td>107440.91</td>\n",
       "      <td>45287.89</td>\n",
       "      <td>175.0</td>\n",
       "      <td>201.0</td>\n",
       "      <td>228.0</td>\n",
       "    </tr>\n",
       "  </tbody>\n",
       "</table>\n",
       "</div>"
      ],
      "text/plain": [
       "                Age     Height    Weight  Medal_Bronze  Medal_Gold  \\\n",
       "Date_time                                                            \n",
       "1896-12-31   3437.0   24922.09  10400.97          38.0        62.0   \n",
       "1898-12-31      0.0       0.00      0.00           0.0         0.0   \n",
       "1900-12-31  16843.0  107440.91  45287.89         175.0       201.0   \n",
       "\n",
       "            Medal_Silver  \n",
       "Date_time                 \n",
       "1896-12-31          43.0  \n",
       "1898-12-31           0.0  \n",
       "1900-12-31         228.0  "
      ]
     },
     "execution_count": 59,
     "metadata": {},
     "output_type": "execute_result"
    }
   ],
   "source": [
    "periodic_data.head(3)"
   ]
  },
  {
   "cell_type": "code",
   "execution_count": 60,
   "id": "31b52f45",
   "metadata": {},
   "outputs": [],
   "source": [
    "# Kayıp verileri çıkaralım:\n",
    "periodic_data = periodic_data[~(periodic_data==0).any(axis=1)] # en az bir verisi 0 olmayan satırları yani yılları alıyoruz."
   ]
  },
  {
   "cell_type": "code",
   "execution_count": 61,
   "id": "69d5a685",
   "metadata": {},
   "outputs": [
    {
     "data": {
      "text/html": [
       "<div>\n",
       "<style scoped>\n",
       "    .dataframe tbody tr th:only-of-type {\n",
       "        vertical-align: middle;\n",
       "    }\n",
       "\n",
       "    .dataframe tbody tr th {\n",
       "        vertical-align: top;\n",
       "    }\n",
       "\n",
       "    .dataframe thead th {\n",
       "        text-align: right;\n",
       "    }\n",
       "</style>\n",
       "<table border=\"1\" class=\"dataframe\">\n",
       "  <thead>\n",
       "    <tr style=\"text-align: right;\">\n",
       "      <th></th>\n",
       "      <th>Age</th>\n",
       "      <th>Height</th>\n",
       "      <th>Weight</th>\n",
       "      <th>Medal_Bronze</th>\n",
       "      <th>Medal_Gold</th>\n",
       "      <th>Medal_Silver</th>\n",
       "    </tr>\n",
       "    <tr>\n",
       "      <th>Date_time</th>\n",
       "      <th></th>\n",
       "      <th></th>\n",
       "      <th></th>\n",
       "      <th></th>\n",
       "      <th></th>\n",
       "      <th></th>\n",
       "    </tr>\n",
       "  </thead>\n",
       "  <tbody>\n",
       "    <tr>\n",
       "      <th>1896-12-31</th>\n",
       "      <td>3437.0</td>\n",
       "      <td>24922.09</td>\n",
       "      <td>10400.97</td>\n",
       "      <td>38.0</td>\n",
       "      <td>62.0</td>\n",
       "      <td>43.0</td>\n",
       "    </tr>\n",
       "    <tr>\n",
       "      <th>1900-12-31</th>\n",
       "      <td>16843.0</td>\n",
       "      <td>107440.91</td>\n",
       "      <td>45287.89</td>\n",
       "      <td>175.0</td>\n",
       "      <td>201.0</td>\n",
       "      <td>228.0</td>\n",
       "    </tr>\n",
       "    <tr>\n",
       "      <th>1904-12-31</th>\n",
       "      <td>12841.0</td>\n",
       "      <td>86139.17</td>\n",
       "      <td>36124.78</td>\n",
       "      <td>150.0</td>\n",
       "      <td>173.0</td>\n",
       "      <td>163.0</td>\n",
       "    </tr>\n",
       "    <tr>\n",
       "      <th>1906-12-31</th>\n",
       "      <td>12194.0</td>\n",
       "      <td>80767.19</td>\n",
       "      <td>33925.06</td>\n",
       "      <td>145.0</td>\n",
       "      <td>157.0</td>\n",
       "      <td>156.0</td>\n",
       "    </tr>\n",
       "    <tr>\n",
       "      <th>1908-12-31</th>\n",
       "      <td>22937.0</td>\n",
       "      <td>146806.47</td>\n",
       "      <td>61262.24</td>\n",
       "      <td>256.0</td>\n",
       "      <td>294.0</td>\n",
       "      <td>281.0</td>\n",
       "    </tr>\n",
       "  </tbody>\n",
       "</table>\n",
       "</div>"
      ],
      "text/plain": [
       "                Age     Height    Weight  Medal_Bronze  Medal_Gold  \\\n",
       "Date_time                                                            \n",
       "1896-12-31   3437.0   24922.09  10400.97          38.0        62.0   \n",
       "1900-12-31  16843.0  107440.91  45287.89         175.0       201.0   \n",
       "1904-12-31  12841.0   86139.17  36124.78         150.0       173.0   \n",
       "1906-12-31  12194.0   80767.19  33925.06         145.0       157.0   \n",
       "1908-12-31  22937.0  146806.47  61262.24         256.0       294.0   \n",
       "\n",
       "            Medal_Silver  \n",
       "Date_time                 \n",
       "1896-12-31          43.0  \n",
       "1900-12-31         228.0  \n",
       "1904-12-31         163.0  \n",
       "1906-12-31         156.0  \n",
       "1908-12-31         281.0  "
      ]
     },
     "execution_count": 61,
     "metadata": {},
     "output_type": "execute_result"
    }
   ],
   "source": [
    "periodic_data.head()"
   ]
  },
  {
   "cell_type": "code",
   "execution_count": 62,
   "id": "6457ae14",
   "metadata": {},
   "outputs": [
    {
     "data": {
      "text/html": [
       "<div>\n",
       "<style scoped>\n",
       "    .dataframe tbody tr th:only-of-type {\n",
       "        vertical-align: middle;\n",
       "    }\n",
       "\n",
       "    .dataframe tbody tr th {\n",
       "        vertical-align: top;\n",
       "    }\n",
       "\n",
       "    .dataframe thead th {\n",
       "        text-align: right;\n",
       "    }\n",
       "</style>\n",
       "<table border=\"1\" class=\"dataframe\">\n",
       "  <thead>\n",
       "    <tr style=\"text-align: right;\">\n",
       "      <th></th>\n",
       "      <th>Age</th>\n",
       "      <th>Height</th>\n",
       "      <th>Weight</th>\n",
       "      <th>Medal_Bronze</th>\n",
       "      <th>Medal_Gold</th>\n",
       "      <th>Medal_Silver</th>\n",
       "    </tr>\n",
       "    <tr>\n",
       "      <th>Date_time</th>\n",
       "      <th></th>\n",
       "      <th></th>\n",
       "      <th></th>\n",
       "      <th></th>\n",
       "      <th></th>\n",
       "      <th></th>\n",
       "    </tr>\n",
       "  </thead>\n",
       "  <tbody>\n",
       "    <tr>\n",
       "      <th>2008-12-31</th>\n",
       "      <td>53344.0</td>\n",
       "      <td>365157.91</td>\n",
       "      <td>152090.92</td>\n",
       "      <td>710.0</td>\n",
       "      <td>671.0</td>\n",
       "      <td>667.0</td>\n",
       "    </tr>\n",
       "    <tr>\n",
       "      <th>2010-12-31</th>\n",
       "      <td>13896.0</td>\n",
       "      <td>91395.00</td>\n",
       "      <td>37877.12</td>\n",
       "      <td>171.0</td>\n",
       "      <td>174.0</td>\n",
       "      <td>175.0</td>\n",
       "    </tr>\n",
       "    <tr>\n",
       "      <th>2012-12-31</th>\n",
       "      <td>50595.0</td>\n",
       "      <td>346091.47</td>\n",
       "      <td>143102.94</td>\n",
       "      <td>679.0</td>\n",
       "      <td>632.0</td>\n",
       "      <td>630.0</td>\n",
       "    </tr>\n",
       "    <tr>\n",
       "      <th>2014-12-31</th>\n",
       "      <td>15907.0</td>\n",
       "      <td>104686.00</td>\n",
       "      <td>42838.63</td>\n",
       "      <td>198.0</td>\n",
       "      <td>202.0</td>\n",
       "      <td>197.0</td>\n",
       "    </tr>\n",
       "    <tr>\n",
       "      <th>2016-12-31</th>\n",
       "      <td>53256.0</td>\n",
       "      <td>360846.03</td>\n",
       "      <td>149628.71</td>\n",
       "      <td>703.0</td>\n",
       "      <td>665.0</td>\n",
       "      <td>655.0</td>\n",
       "    </tr>\n",
       "  </tbody>\n",
       "</table>\n",
       "</div>"
      ],
      "text/plain": [
       "                Age     Height     Weight  Medal_Bronze  Medal_Gold  \\\n",
       "Date_time                                                             \n",
       "2008-12-31  53344.0  365157.91  152090.92         710.0       671.0   \n",
       "2010-12-31  13896.0   91395.00   37877.12         171.0       174.0   \n",
       "2012-12-31  50595.0  346091.47  143102.94         679.0       632.0   \n",
       "2014-12-31  15907.0  104686.00   42838.63         198.0       202.0   \n",
       "2016-12-31  53256.0  360846.03  149628.71         703.0       665.0   \n",
       "\n",
       "            Medal_Silver  \n",
       "Date_time                 \n",
       "2008-12-31         667.0  \n",
       "2010-12-31         175.0  \n",
       "2012-12-31         630.0  \n",
       "2014-12-31         197.0  \n",
       "2016-12-31         655.0  "
      ]
     },
     "execution_count": 62,
     "metadata": {},
     "output_type": "execute_result"
    }
   ],
   "source": [
    "periodic_data.tail()"
   ]
  },
  {
   "cell_type": "code",
   "execution_count": 69,
   "id": "cc03fd84",
   "metadata": {},
   "outputs": [
    {
     "data": {
      "text/plain": [
       "Text(0.5, 1.0, 'Medal Number by Year')"
      ]
     },
     "execution_count": 69,
     "metadata": {},
     "output_type": "execute_result"
    },
    {
     "data": {
      "text/plain": [
       "<Figure size 432x288 with 0 Axes>"
      ]
     },
     "metadata": {},
     "output_type": "display_data"
    },
    {
     "data": {
      "image/png": "[encoded data removed]",
      "text/plain": [
       "<Figure size 432x288 with 1 Axes>"
      ]
     },
     "metadata": {
      "needs_background": "light"
     },
     "output_type": "display_data"
    }
   ],
   "source": [
    "plt.figure()\n",
    "periodic_data.loc[:,[\"Medal_Bronze\",\"Medal_Gold\",\"Medal_Silver\"]].plot()\n",
    "plt.xlabel(\"Year\")\n",
    "plt.ylabel(\"Medal Number\")\n",
    "plt.legend()\n",
    "plt.grid(True)\n",
    "plt.title(\"Medal Number by Year\")"
   ]
  },
  {
   "cell_type": "code",
   "execution_count": 70,
   "id": "0a677150",
   "metadata": {},
   "outputs": [],
   "source": [
    "# Bir yerden sonra olimpiyatların sıklaştığını yaz ve kış olimpiyatı olarak yapıldığını buradan görebiliriz."
   ]
  },
  {
   "cell_type": "markdown",
   "id": "8fc10670",
   "metadata": {},
   "source": [
    "# Yıllara ve Szeonlara Göre Madalya Sayıları"
   ]
  },
  {
   "cell_type": "code",
   "execution_count": 71,
   "id": "f46523cf",
   "metadata": {},
   "outputs": [],
   "source": [
    "Summer_data = data_time[data_time.Season == \"Summer\"]"
   ]
  },
  {
   "cell_type": "code",
   "execution_count": 72,
   "id": "8c334c5c",
   "metadata": {},
   "outputs": [
    {
     "data": {
      "text/html": [
       "<div>\n",
       "<style scoped>\n",
       "    .dataframe tbody tr th:only-of-type {\n",
       "        vertical-align: middle;\n",
       "    }\n",
       "\n",
       "    .dataframe tbody tr th {\n",
       "        vertical-align: top;\n",
       "    }\n",
       "\n",
       "    .dataframe thead th {\n",
       "        text-align: right;\n",
       "    }\n",
       "</style>\n",
       "<table border=\"1\" class=\"dataframe\">\n",
       "  <thead>\n",
       "    <tr style=\"text-align: right;\">\n",
       "      <th></th>\n",
       "      <th>Name</th>\n",
       "      <th>Gender</th>\n",
       "      <th>Age</th>\n",
       "      <th>Height</th>\n",
       "      <th>Weight</th>\n",
       "      <th>Team</th>\n",
       "      <th>NOC</th>\n",
       "      <th>Season</th>\n",
       "      <th>City</th>\n",
       "      <th>Sport</th>\n",
       "      <th>Event</th>\n",
       "      <th>Medal_Bronze</th>\n",
       "      <th>Medal_Gold</th>\n",
       "      <th>Medal_Silver</th>\n",
       "    </tr>\n",
       "    <tr>\n",
       "      <th>Date_time</th>\n",
       "      <th></th>\n",
       "      <th></th>\n",
       "      <th></th>\n",
       "      <th></th>\n",
       "      <th></th>\n",
       "      <th></th>\n",
       "      <th></th>\n",
       "      <th></th>\n",
       "      <th></th>\n",
       "      <th></th>\n",
       "      <th></th>\n",
       "      <th></th>\n",
       "      <th></th>\n",
       "      <th></th>\n",
       "    </tr>\n",
       "  </thead>\n",
       "  <tbody>\n",
       "    <tr>\n",
       "      <th>1900-01-01</th>\n",
       "      <td>Edgar Lindenau Aabye</td>\n",
       "      <td>M</td>\n",
       "      <td>34.0</td>\n",
       "      <td>182.48</td>\n",
       "      <td>95.62</td>\n",
       "      <td>Denmark/Sweden</td>\n",
       "      <td>DEN</td>\n",
       "      <td>Summer</td>\n",
       "      <td>Paris</td>\n",
       "      <td>Tug-Of-War</td>\n",
       "      <td>Tug-Of-War Men's Tug-Of-War</td>\n",
       "      <td>0</td>\n",
       "      <td>1</td>\n",
       "      <td>0</td>\n",
       "    </tr>\n",
       "    <tr>\n",
       "      <th>1920-01-01</th>\n",
       "      <td>Arvo Ossian Aaltonen</td>\n",
       "      <td>M</td>\n",
       "      <td>30.0</td>\n",
       "      <td>182.01</td>\n",
       "      <td>76.69</td>\n",
       "      <td>Finland</td>\n",
       "      <td>FIN</td>\n",
       "      <td>Summer</td>\n",
       "      <td>Antwerpen</td>\n",
       "      <td>Swimming</td>\n",
       "      <td>Swimming Men's 200 metres Breaststroke</td>\n",
       "      <td>1</td>\n",
       "      <td>0</td>\n",
       "      <td>0</td>\n",
       "    </tr>\n",
       "    <tr>\n",
       "      <th>1920-01-01</th>\n",
       "      <td>Arvo Ossian Aaltonen</td>\n",
       "      <td>M</td>\n",
       "      <td>30.0</td>\n",
       "      <td>177.00</td>\n",
       "      <td>75.00</td>\n",
       "      <td>Finland</td>\n",
       "      <td>FIN</td>\n",
       "      <td>Summer</td>\n",
       "      <td>Antwerpen</td>\n",
       "      <td>Swimming</td>\n",
       "      <td>Swimming Men's 400 metres Breaststroke</td>\n",
       "      <td>1</td>\n",
       "      <td>0</td>\n",
       "      <td>0</td>\n",
       "    </tr>\n",
       "  </tbody>\n",
       "</table>\n",
       "</div>"
      ],
      "text/plain": [
       "                            Name Gender   Age  Height  Weight            Team  \\\n",
       "Date_time                                                                       \n",
       "1900-01-01  Edgar Lindenau Aabye      M  34.0  182.48   95.62  Denmark/Sweden   \n",
       "1920-01-01  Arvo Ossian Aaltonen      M  30.0  182.01   76.69         Finland   \n",
       "1920-01-01  Arvo Ossian Aaltonen      M  30.0  177.00   75.00         Finland   \n",
       "\n",
       "            NOC  Season       City       Sport  \\\n",
       "Date_time                                        \n",
       "1900-01-01  DEN  Summer      Paris  Tug-Of-War   \n",
       "1920-01-01  FIN  Summer  Antwerpen    Swimming   \n",
       "1920-01-01  FIN  Summer  Antwerpen    Swimming   \n",
       "\n",
       "                                             Event  Medal_Bronze  Medal_Gold  \\\n",
       "Date_time                                                                      \n",
       "1900-01-01             Tug-Of-War Men's Tug-Of-War             0           1   \n",
       "1920-01-01  Swimming Men's 200 metres Breaststroke             1           0   \n",
       "1920-01-01  Swimming Men's 400 metres Breaststroke             1           0   \n",
       "\n",
       "            Medal_Silver  \n",
       "Date_time                 \n",
       "1900-01-01             0  \n",
       "1920-01-01             0  \n",
       "1920-01-01             0  "
      ]
     },
     "execution_count": 72,
     "metadata": {},
     "output_type": "execute_result"
    }
   ],
   "source": [
    "Summer_data.head(3)"
   ]
  },
  {
   "cell_type": "code",
   "execution_count": 73,
   "id": "8312f7fc",
   "metadata": {},
   "outputs": [],
   "source": [
    "Winter_data = data_time[data_time.Season == \"Winter\"]"
   ]
  },
  {
   "cell_type": "code",
   "execution_count": 74,
   "id": "19f1c16e",
   "metadata": {},
   "outputs": [
    {
     "data": {
      "text/html": [
       "<div>\n",
       "<style scoped>\n",
       "    .dataframe tbody tr th:only-of-type {\n",
       "        vertical-align: middle;\n",
       "    }\n",
       "\n",
       "    .dataframe tbody tr th {\n",
       "        vertical-align: top;\n",
       "    }\n",
       "\n",
       "    .dataframe thead th {\n",
       "        text-align: right;\n",
       "    }\n",
       "</style>\n",
       "<table border=\"1\" class=\"dataframe\">\n",
       "  <thead>\n",
       "    <tr style=\"text-align: right;\">\n",
       "      <th></th>\n",
       "      <th>Name</th>\n",
       "      <th>Gender</th>\n",
       "      <th>Age</th>\n",
       "      <th>Height</th>\n",
       "      <th>Weight</th>\n",
       "      <th>Team</th>\n",
       "      <th>NOC</th>\n",
       "      <th>Season</th>\n",
       "      <th>City</th>\n",
       "      <th>Sport</th>\n",
       "      <th>Event</th>\n",
       "      <th>Medal_Bronze</th>\n",
       "      <th>Medal_Gold</th>\n",
       "      <th>Medal_Silver</th>\n",
       "    </tr>\n",
       "    <tr>\n",
       "      <th>Date_time</th>\n",
       "      <th></th>\n",
       "      <th></th>\n",
       "      <th></th>\n",
       "      <th></th>\n",
       "      <th></th>\n",
       "      <th></th>\n",
       "      <th></th>\n",
       "      <th></th>\n",
       "      <th></th>\n",
       "      <th></th>\n",
       "      <th></th>\n",
       "      <th></th>\n",
       "      <th></th>\n",
       "      <th></th>\n",
       "    </tr>\n",
       "  </thead>\n",
       "  <tbody>\n",
       "    <tr>\n",
       "      <th>2014-01-01</th>\n",
       "      <td>Juhamatti Tapio Aaltonen</td>\n",
       "      <td>M</td>\n",
       "      <td>28.0</td>\n",
       "      <td>184.0</td>\n",
       "      <td>85.0</td>\n",
       "      <td>Finland</td>\n",
       "      <td>FIN</td>\n",
       "      <td>Winter</td>\n",
       "      <td>Sochi</td>\n",
       "      <td>Ice Hockey</td>\n",
       "      <td>Ice Hockey Men's Ice Hockey</td>\n",
       "      <td>1</td>\n",
       "      <td>0</td>\n",
       "      <td>0</td>\n",
       "    </tr>\n",
       "    <tr>\n",
       "      <th>1992-01-01</th>\n",
       "      <td>Kjetil Andr Aamodt</td>\n",
       "      <td>M</td>\n",
       "      <td>20.0</td>\n",
       "      <td>176.0</td>\n",
       "      <td>85.0</td>\n",
       "      <td>Norway</td>\n",
       "      <td>NOR</td>\n",
       "      <td>Winter</td>\n",
       "      <td>Albertville</td>\n",
       "      <td>Alpine Skiing</td>\n",
       "      <td>Alpine Skiing Men's Super G</td>\n",
       "      <td>0</td>\n",
       "      <td>1</td>\n",
       "      <td>0</td>\n",
       "    </tr>\n",
       "    <tr>\n",
       "      <th>1992-01-01</th>\n",
       "      <td>Kjetil Andr Aamodt</td>\n",
       "      <td>M</td>\n",
       "      <td>20.0</td>\n",
       "      <td>176.0</td>\n",
       "      <td>85.0</td>\n",
       "      <td>Norway</td>\n",
       "      <td>NOR</td>\n",
       "      <td>Winter</td>\n",
       "      <td>Albertville</td>\n",
       "      <td>Alpine Skiing</td>\n",
       "      <td>Alpine Skiing Men's Giant Slalom</td>\n",
       "      <td>1</td>\n",
       "      <td>0</td>\n",
       "      <td>0</td>\n",
       "    </tr>\n",
       "  </tbody>\n",
       "</table>\n",
       "</div>"
      ],
      "text/plain": [
       "                                Name Gender   Age  Height  Weight     Team  \\\n",
       "Date_time                                                                    \n",
       "2014-01-01  Juhamatti Tapio Aaltonen      M  28.0   184.0    85.0  Finland   \n",
       "1992-01-01        Kjetil Andr Aamodt      M  20.0   176.0    85.0   Norway   \n",
       "1992-01-01        Kjetil Andr Aamodt      M  20.0   176.0    85.0   Norway   \n",
       "\n",
       "            NOC  Season         City          Sport  \\\n",
       "Date_time                                             \n",
       "2014-01-01  FIN  Winter        Sochi     Ice Hockey   \n",
       "1992-01-01  NOR  Winter  Albertville  Alpine Skiing   \n",
       "1992-01-01  NOR  Winter  Albertville  Alpine Skiing   \n",
       "\n",
       "                                       Event  Medal_Bronze  Medal_Gold  \\\n",
       "Date_time                                                                \n",
       "2014-01-01       Ice Hockey Men's Ice Hockey             1           0   \n",
       "1992-01-01       Alpine Skiing Men's Super G             0           1   \n",
       "1992-01-01  Alpine Skiing Men's Giant Slalom             1           0   \n",
       "\n",
       "            Medal_Silver  \n",
       "Date_time                 \n",
       "2014-01-01             0  \n",
       "1992-01-01             0  \n",
       "1992-01-01             0  "
      ]
     },
     "execution_count": 74,
     "metadata": {},
     "output_type": "execute_result"
    }
   ],
   "source": [
    "Winter_data.head(3)"
   ]
  },
  {
   "cell_type": "code",
   "execution_count": 75,
   "id": "7f46206a",
   "metadata": {},
   "outputs": [
    {
     "data": {
      "text/html": [
       "<div>\n",
       "<style scoped>\n",
       "    .dataframe tbody tr th:only-of-type {\n",
       "        vertical-align: middle;\n",
       "    }\n",
       "\n",
       "    .dataframe tbody tr th {\n",
       "        vertical-align: top;\n",
       "    }\n",
       "\n",
       "    .dataframe thead th {\n",
       "        text-align: right;\n",
       "    }\n",
       "</style>\n",
       "<table border=\"1\" class=\"dataframe\">\n",
       "  <thead>\n",
       "    <tr style=\"text-align: right;\">\n",
       "      <th></th>\n",
       "      <th>Age</th>\n",
       "      <th>Height</th>\n",
       "      <th>Weight</th>\n",
       "      <th>Medal_Bronze</th>\n",
       "      <th>Medal_Gold</th>\n",
       "      <th>Medal_Silver</th>\n",
       "    </tr>\n",
       "    <tr>\n",
       "      <th>Date_time</th>\n",
       "      <th></th>\n",
       "      <th></th>\n",
       "      <th></th>\n",
       "      <th></th>\n",
       "      <th></th>\n",
       "      <th></th>\n",
       "    </tr>\n",
       "  </thead>\n",
       "  <tbody>\n",
       "    <tr>\n",
       "      <th>1924-12-31</th>\n",
       "      <td>3924.0</td>\n",
       "      <td>22867.28</td>\n",
       "      <td>9703.58</td>\n",
       "      <td>37</td>\n",
       "      <td>55</td>\n",
       "      <td>38</td>\n",
       "    </tr>\n",
       "    <tr>\n",
       "      <th>1928-12-31</th>\n",
       "      <td>2266.0</td>\n",
       "      <td>15745.75</td>\n",
       "      <td>6862.50</td>\n",
       "      <td>31</td>\n",
       "      <td>30</td>\n",
       "      <td>28</td>\n",
       "    </tr>\n",
       "    <tr>\n",
       "      <th>1932-12-31</th>\n",
       "      <td>2431.0</td>\n",
       "      <td>16357.71</td>\n",
       "      <td>7067.76</td>\n",
       "      <td>28</td>\n",
       "      <td>32</td>\n",
       "      <td>32</td>\n",
       "    </tr>\n",
       "  </tbody>\n",
       "</table>\n",
       "</div>"
      ],
      "text/plain": [
       "               Age    Height   Weight  Medal_Bronze  Medal_Gold  Medal_Silver\n",
       "Date_time                                                                    \n",
       "1924-12-31  3924.0  22867.28  9703.58            37          55            38\n",
       "1928-12-31  2266.0  15745.75  6862.50            31          30            28\n",
       "1932-12-31  2431.0  16357.71  7067.76            28          32            32"
      ]
     },
     "execution_count": 75,
     "metadata": {},
     "output_type": "execute_result"
    }
   ],
   "source": [
    "periodic_winter = Winter_data.resample(\"A\").sum()\n",
    "periodic_winter = periodic_winter[~(periodic_winter==0).any(axis=1)]\n",
    "periodic_winter.head(3)"
   ]
  },
  {
   "cell_type": "code",
   "execution_count": 76,
   "id": "7dd61802",
   "metadata": {},
   "outputs": [
    {
     "data": {
      "text/html": [
       "<div>\n",
       "<style scoped>\n",
       "    .dataframe tbody tr th:only-of-type {\n",
       "        vertical-align: middle;\n",
       "    }\n",
       "\n",
       "    .dataframe tbody tr th {\n",
       "        vertical-align: top;\n",
       "    }\n",
       "\n",
       "    .dataframe thead th {\n",
       "        text-align: right;\n",
       "    }\n",
       "</style>\n",
       "<table border=\"1\" class=\"dataframe\">\n",
       "  <thead>\n",
       "    <tr style=\"text-align: right;\">\n",
       "      <th></th>\n",
       "      <th>Age</th>\n",
       "      <th>Height</th>\n",
       "      <th>Weight</th>\n",
       "      <th>Medal_Bronze</th>\n",
       "      <th>Medal_Gold</th>\n",
       "      <th>Medal_Silver</th>\n",
       "    </tr>\n",
       "    <tr>\n",
       "      <th>Date_time</th>\n",
       "      <th></th>\n",
       "      <th></th>\n",
       "      <th></th>\n",
       "      <th></th>\n",
       "      <th></th>\n",
       "      <th></th>\n",
       "    </tr>\n",
       "  </thead>\n",
       "  <tbody>\n",
       "    <tr>\n",
       "      <th>1896-12-31</th>\n",
       "      <td>3437.0</td>\n",
       "      <td>24922.09</td>\n",
       "      <td>10400.97</td>\n",
       "      <td>38.0</td>\n",
       "      <td>62.0</td>\n",
       "      <td>43.0</td>\n",
       "    </tr>\n",
       "    <tr>\n",
       "      <th>1900-12-31</th>\n",
       "      <td>16843.0</td>\n",
       "      <td>107440.91</td>\n",
       "      <td>45287.89</td>\n",
       "      <td>175.0</td>\n",
       "      <td>201.0</td>\n",
       "      <td>228.0</td>\n",
       "    </tr>\n",
       "    <tr>\n",
       "      <th>1904-12-31</th>\n",
       "      <td>12841.0</td>\n",
       "      <td>86139.17</td>\n",
       "      <td>36124.78</td>\n",
       "      <td>150.0</td>\n",
       "      <td>173.0</td>\n",
       "      <td>163.0</td>\n",
       "    </tr>\n",
       "  </tbody>\n",
       "</table>\n",
       "</div>"
      ],
      "text/plain": [
       "                Age     Height    Weight  Medal_Bronze  Medal_Gold  \\\n",
       "Date_time                                                            \n",
       "1896-12-31   3437.0   24922.09  10400.97          38.0        62.0   \n",
       "1900-12-31  16843.0  107440.91  45287.89         175.0       201.0   \n",
       "1904-12-31  12841.0   86139.17  36124.78         150.0       173.0   \n",
       "\n",
       "            Medal_Silver  \n",
       "Date_time                 \n",
       "1896-12-31          43.0  \n",
       "1900-12-31         228.0  \n",
       "1904-12-31         163.0  "
      ]
     },
     "execution_count": 76,
     "metadata": {},
     "output_type": "execute_result"
    }
   ],
   "source": [
    "periodic_summer = Summer_data.resample(\"A\").sum()\n",
    "periodic_summer = periodic_summer[~(periodic_summer==0).any(axis=1)]\n",
    "periodic_summer.head(3)"
   ]
  },
  {
   "cell_type": "code",
   "execution_count": 77,
   "id": "62d9fddd",
   "metadata": {},
   "outputs": [
    {
     "data": {
      "text/plain": [
       "Text(0.5, 1.0, 'Medal Number by Year for Summer Season')"
      ]
     },
     "execution_count": 77,
     "metadata": {},
     "output_type": "execute_result"
    },
    {
     "data": {
      "text/plain": [
       "<Figure size 432x288 with 0 Axes>"
      ]
     },
     "metadata": {},
     "output_type": "display_data"
    },
    {
     "data": {
      "image/png": "[encoded data removed]",
      "text/plain": [
       "<Figure size 432x288 with 1 Axes>"
      ]
     },
     "metadata": {
      "needs_background": "light"
     },
     "output_type": "display_data"
    }
   ],
   "source": [
    "plt.figure()\n",
    "periodic_summer.loc[:,[\"Medal_Bronze\",\"Medal_Gold\",\"Medal_Silver\"]].plot()\n",
    "plt.xlabel(\"Year\")\n",
    "plt.ylabel(\"Medal Number\")\n",
    "plt.legend()\n",
    "plt.grid(True)\n",
    "plt.title(\"Medal Number by Year for Summer Season\")"
   ]
  },
  {
   "cell_type": "code",
   "execution_count": 78,
   "id": "c50dc545",
   "metadata": {},
   "outputs": [
    {
     "data": {
      "text/plain": [
       "Text(0.5, 1.0, 'Medal Number by Year for Winter Season')"
      ]
     },
     "execution_count": 78,
     "metadata": {},
     "output_type": "execute_result"
    },
    {
     "data": {
      "text/plain": [
       "<Figure size 432x288 with 0 Axes>"
      ]
     },
     "metadata": {},
     "output_type": "display_data"
    },
    {
     "data": {
      "image/png": "[encoded data removed]",
      "text/plain": [
       "<Figure size 432x288 with 1 Axes>"
      ]
     },
     "metadata": {
      "needs_background": "light"
     },
     "output_type": "display_data"
    }
   ],
   "source": [
    "plt.figure()\n",
    "periodic_winter.loc[:,[\"Medal_Bronze\",\"Medal_Gold\",\"Medal_Silver\"]].plot()\n",
    "plt.xlabel(\"Year\")\n",
    "plt.ylabel(\"Medal Number\")\n",
    "plt.legend()\n",
    "plt.grid(True)\n",
    "plt.title(\"Medal Number by Year for Winter Season\")"
   ]
  },
  {
   "cell_type": "code",
   "execution_count": null,
   "id": "42da2d6c",
   "metadata": {},
   "outputs": [],
   "source": []
  }
 ],
 "metadata": {
  "kernelspec": {
   "display_name": "Python 3 (ipykernel)",
   "language": "python",
   "name": "python3"
  },
  "language_info": {
   "codemirror_mode": {
    "name": "ipython",
    "version": 3
   },
   "file_extension": ".py",
   "mimetype": "text/x-python",
   "name": "python",
   "nbconvert_exporter": "python",
   "pygments_lexer": "ipython3",
   "version": "3.9.7"
  }
 },
 "nbformat": 4,
 "nbformat_minor": 5
}
